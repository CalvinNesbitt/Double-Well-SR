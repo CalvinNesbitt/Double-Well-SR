{
 "cells": [
  {
   "cell_type": "markdown",
   "metadata": {},
   "source": [
    "In this notebook we begin writing code for finding the melancholia state."
   ]
  },
  {
   "cell_type": "code",
   "execution_count": 1,
   "metadata": {},
   "outputs": [],
   "source": [
    "import numpy as np\n",
    "import sys\n",
    "sys.path.append('/Users/cfn18/Desktop/Double-Well-SR/Deterministic-Model')\n",
    "from fancyWell import *\n",
    "import matplotlib.pyplot as plt"
   ]
  },
  {
   "cell_type": "code",
   "execution_count": 2,
   "metadata": {},
   "outputs": [],
   "source": [
    "# Writing Class for M State Algoirtimg\n",
    "\n",
    "def bisect(x, y):\n",
    "    return x + 0.5 * (y - x)\n",
    "\n",
    "def check_cold(ic, integrator): # M State class needs such a function for initialisation\n",
    "    \"\"\"\n",
    "    Checks whether a given ic ends up at the cold point.\n",
    "    \"\"\"\n",
    "    \n",
    "    integrator.state = ic\n",
    "    tau = 0.1 # How long we integrate between checks, will effect how efficient we are\n",
    "    \n",
    "    for i in range(1000): # How many checks we make\n",
    "        integrator.integrate(tau)\n",
    "        if integrator.state[0] < -0.5: #Threshold for being cold #ENSURE YOUR COLD IC MATCHES THE TRUE statement\n",
    "            return True\n",
    "        elif integrator.state[0] > 0.5: #Threshold for being hot\n",
    "            return False  \n",
    "    return None\n",
    "\n",
    "class MStateAlgorithm:\n",
    "    \n",
    "    def __init__(self, integrator, check_cold, tau, ic):\n",
    "        \n",
    "        self.integrator = integrator\n",
    "        self.check_cold = check_cold\n",
    "        self.cold_point, self.hot_point = ic\n",
    "        self.cold_ts=[self.cold_point]\n",
    "        self.hot_ts=[self.hot_point]\n",
    "\n",
    "\n",
    "        \n",
    "    def _midpoint_update(self):\n",
    "        \n",
    "        # Find midpoint\n",
    "        midpoint = bisect(self.cold_point, self.hot_point)\n",
    "\n",
    "        # Check if it the midpoint is cold or hot\n",
    "        midpoint_cold = self.check_cold(midpoint, self.integrator)\n",
    "\n",
    "        # Update cold or hot point depending on result\n",
    "        if midpoint_cold:\n",
    "            self.cold_point = midpoint\n",
    "        elif not midpoint_cold:\n",
    "            self.hot_point = midpoint\n",
    "        elif mid_point_cold is None: # check_cold didn't know\n",
    "            self.cold_point = midpoint\n",
    "                \n",
    "    def _step(self):\n",
    "        \n",
    "        # Integate cold and hot points one step forward\n",
    "        self.integrator.state = self.cold_point\n",
    "        self.integrator.integrate(tau)\n",
    "        self.cold_point = self.integrator.state\n",
    "    \n",
    "        self.integrator.state = self.hot_point\n",
    "        self.integrator.integrate(tau)\n",
    "        self.hot_point = integrator.state\n",
    "        \n",
    "        # Midpoint update\n",
    "        self._midpoint_update()\n",
    "    \n",
    "    def run(self, steps, timer=False):\n",
    "        for i in tqdm(range(steps), disable=timer):\n",
    "            self._step()\n",
    "            \n",
    "            #UPDATE TO USE AN OBSEVERVER CLASS RATHER THAN THIS\n",
    "            self.hot_ts.append(self.hot_point)\n",
    "            self.cold_ts.append(self.cold_point)\n",
    "\n",
    "\n",
    "            \n",
    "# class MStateObserver:\n",
    "    \n",
    "#     def __init__(self, MStateAlgorithm):\n",
    "#         self.alg = MStateAlgorithm\n",
    "        \n",
    "#     def \n",
    "        "
   ]
  },
  {
   "cell_type": "code",
   "execution_count": 3,
   "metadata": {},
   "outputs": [],
   "source": [
    "tau = 0.1\n",
    "alpha = 0.0\n",
    "cold_init = np.array([-3, 0.9])\n",
    "hot_init = np.array([20, 0.2])\n",
    "\n",
    "integrator = FancyWellIntegrator(alpha)\n",
    "mstate = MStateAlgorithm(integrator, check_cold, tau, [cold_init, hot_init])"
   ]
  },
  {
   "cell_type": "code",
   "execution_count": 4,
   "metadata": {},
   "outputs": [
    {
     "data": {
      "application/vnd.jupyter.widget-view+json": {
       "model_id": "c7f67f1fc7b649cab35b7e0960ef1b2a",
       "version_major": 2,
       "version_minor": 0
      },
      "text/plain": [
       "  0%|          | 0/10 [00:00<?, ?it/s]"
      ]
     },
     "metadata": {},
     "output_type": "display_data"
    }
   ],
   "source": [
    "mstate.run(10)"
   ]
  },
  {
   "cell_type": "code",
   "execution_count": 5,
   "metadata": {},
   "outputs": [
    {
     "data": {
      "text/plain": [
       "[<matplotlib.lines.Line2D at 0x7fca1fa6c910>]"
      ]
     },
     "execution_count": 5,
     "metadata": {},
     "output_type": "execute_result"
    },
    {
     "data": {
      "image/png": "[encoded data removed]",
      "text/plain": [
       "<Figure size 432x288 with 1 Axes>"
      ]
     },
     "metadata": {
      "needs_background": "light"
     },
     "output_type": "display_data"
    }
   ],
   "source": [
    "plt.plot(np.vstack(mstate.hot_ts)[:, 0], np.vstack(mstate.hot_ts)[:, 1],'.-')\n",
    "plt.plot(np.vstack(mstate.cold_ts)[:, 0], np.vstack(mstate.cold_ts)[:, 1],'.-')"
   ]
  },
  {
   "cell_type": "code",
   "execution_count": null,
   "metadata": {},
   "outputs": [],
   "source": []
  },
  {
   "cell_type": "code",
   "execution_count": null,
   "metadata": {},
   "outputs": [],
   "source": []
  }
 ],
 "metadata": {
  "kernelspec": {
   "display_name": "iris_course",
   "language": "python",
   "name": "iris_course"
  },
  "language_info": {
   "codemirror_mode": {
    "name": "ipython",
    "version": 3
   },
   "file_extension": ".py",
   "mimetype": "text/x-python",
   "name": "python",
   "nbconvert_exporter": "python",
   "pygments_lexer": "ipython3",
   "version": "3.8.10"
  }
 },
 "nbformat": 4,
 "nbformat_minor": 2
}
