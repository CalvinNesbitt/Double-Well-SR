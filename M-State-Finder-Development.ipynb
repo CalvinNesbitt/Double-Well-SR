{
 "cells": [
  {
   "cell_type": "markdown",
   "metadata": {},
   "source": [
    "In this notebook we begin writing code for finding the melancholia state."
   ]
  },
  {
   "cell_type": "code",
   "execution_count": 1,
   "metadata": {},
   "outputs": [],
   "source": [
    "cluster = True"
   ]
  },
  {
   "cell_type": "code",
   "execution_count": 3,
   "metadata": {},
   "outputs": [],
   "source": [
    "import numpy as np\n",
    "import sys\n",
    "\n",
    "if cluster:\n",
    "    sys.path.append('/rds/general/user/cfn18/home/Double-Well-SR/Deterministic-Model/')\n",
    "    sys.path.append('/rds/general/user/cfn18/home/Instantons/L96-EBM-Instanton')\n",
    "else: \n",
    "    sys.path.append('/Users/cfn18/Desktop/Double-Well-SR/Deterministic-Model/')\n",
    "\n",
    "from fancyWell import *\n",
    "import matplotlib.pyplot as plt\n",
    "\n",
    "import l96EBM as l96ebm "
   ]
  },
  {
   "cell_type": "code",
   "execution_count": 120,
   "metadata": {},
   "outputs": [],
   "source": [
    "# Writing Class for M State Algoirtimg\n",
    "\n",
    "def bisect(x, y):\n",
    "    return x + 0.5 * (y - x)\n",
    "\n",
    "def check_cold(ic, integrator): # M State class needs such a function for initialisation\n",
    "    \"\"\"\n",
    "    Checks whether a given ic ends up at the cold point.\n",
    "    \"\"\"\n",
    "    \n",
    "    integrator.set_state(ic)\n",
    "    tau = 0.1 # How long we integrate between checks, will effect how efficient we are\n",
    "    \n",
    "    for i in range(1000): # How many checks we make\n",
    "        integrator.integrate(tau)\n",
    "        if integrator.state[0] < -0.5: #Threshold for being cold #ENSURE YOUR COLD IC MATCHES THE TRUE statement\n",
    "            return True\n",
    "        elif integrator.state[0] > 0.5: #Threshold for being hot\n",
    "            return False  \n",
    "    return None\n",
    "\n",
    "class MStateAlgorithm:\n",
    "    \n",
    "    def __init__(self, integrator, check_cold, tau, ic):\n",
    "        \n",
    "        self.integrator = integrator\n",
    "        self.check_cold = check_cold\n",
    "        self.cold_point, self.hot_point = ic\n",
    "        self.cold_ts=[self.cold_point]\n",
    "        self.hot_ts=[self.hot_point]\n",
    "        self.tau = tau\n",
    "        self.time = 0\n",
    "\n",
    "        \n",
    "    def _midpoint_update(self):\n",
    "        \n",
    "        # Find midpoint\n",
    "        midpoint = bisect(self.cold_point, self.hot_point)\n",
    "\n",
    "        # Check if it the midpoint is cold or hot\n",
    "        midpoint_cold = self.check_cold(midpoint, self.integrator)\n",
    "\n",
    "        # Update cold or hot point depending on result\n",
    "        if midpoint_cold:\n",
    "            self.cold_point = midpoint\n",
    "        elif not midpoint_cold:\n",
    "            self.hot_point = midpoint\n",
    "        elif mid_point_cold is None: # check_cold didn't know\n",
    "            self.cold_point = midpoint\n",
    "                \n",
    "    def _step(self):\n",
    "        \n",
    "        # Integate cold and hot points one step forward\n",
    "        self.integrator.set_state(self.cold_point)\n",
    "        self.integrator.integrate(tau)\n",
    "        self.cold_point = self.integrator.state\n",
    "    \n",
    "        self.integrator.set_state(self.hot_point)\n",
    "        self.integrator.integrate(tau)\n",
    "        self.hot_point = integrator.state\n",
    "        \n",
    "        # Midpoint update\n",
    "        self._midpoint_update()\n",
    "        \n",
    "        self.time += self.tau\n",
    "    \n",
    "    def run(self, steps, timer=False):\n",
    "        for i in tqdm(range(steps), disable=timer):\n",
    "            self._step()\n",
    "            \n",
    "            #UPDATE TO USE AN OBSEVERVER CLASS RATHER THAN THIS\n",
    "            self.hot_ts.append(self.hot_point)\n",
    "            self.cold_ts.append(self.cold_point)\n",
    "\n",
    "\n",
    "            \n",
    "# class MStateObserver:\n",
    "    \n",
    "#     def __init__(self, MStateAlgorithm):\n",
    "#         self.alg = MStateAlgorithm\n",
    "        \n",
    "#     def \n",
    "        "
   ]
  },
  {
   "cell_type": "code",
   "execution_count": 121,
   "metadata": {},
   "outputs": [],
   "source": [
    "tau = 0.1\n",
    "alpha = 0.0\n",
    "cold_init = np.array([-3, 0.9])\n",
    "hot_init = np.array([20, 0.2])\n",
    "\n",
    "integrator = FancyWellIntegrator(alpha)\n",
    "mstate = MStateAlgorithm(integrator, check_cold, tau, [cold_init, hot_init])"
   ]
  },
  {
   "cell_type": "code",
   "execution_count": 122,
   "metadata": {},
   "outputs": [
    {
     "data": {
      "application/vnd.jupyter.widget-view+json": {
       "model_id": "ecd86721b2764f15ad8f8be01ab471c2",
       "version_major": 2,
       "version_minor": 0
      },
      "text/plain": [
       "HBox(children=(FloatProgress(value=0.0, max=10.0), HTML(value='')))"
      ]
     },
     "metadata": {},
     "output_type": "display_data"
    },
    {
     "name": "stdout",
     "output_type": "stream",
     "text": [
      "\n"
     ]
    }
   ],
   "source": [
    "mstate.run(10)"
   ]
  },
  {
   "cell_type": "code",
   "execution_count": 123,
   "metadata": {},
   "outputs": [
    {
     "data": {
      "text/plain": [
       "0.9999999999999999"
      ]
     },
     "execution_count": 123,
     "metadata": {},
     "output_type": "execute_result"
    }
   ],
   "source": [
    "mstate.time"
   ]
  },
  {
   "cell_type": "code",
   "execution_count": 31,
   "metadata": {},
   "outputs": [
    {
     "data": {
      "text/plain": [
       "[<matplotlib.lines.Line2D at 0x153a9d7bb2d0>]"
      ]
     },
     "execution_count": 31,
     "metadata": {},
     "output_type": "execute_result"
    },
    {
     "data": {
      "image/png": "[encoded data removed]",
      "text/plain": [
       "<Figure size 432x288 with 1 Axes>"
      ]
     },
     "metadata": {
      "needs_background": "light"
     },
     "output_type": "display_data"
    }
   ],
   "source": [
    "plt.plot(np.vstack(mstate.hot_ts)[:, 0], np.vstack(mstate.hot_ts)[:, 1],'.-')\n",
    "plt.plot(np.vstack(mstate.cold_ts)[:, 0], np.vstack(mstate.cold_ts)[:, 1],'.-')"
   ]
  },
  {
   "cell_type": "code",
   "execution_count": null,
   "metadata": {},
   "outputs": [],
   "source": [
    "integrator = l96ebm.Integrator()"
   ]
  },
  {
   "cell_type": "code",
   "execution_count": null,
   "metadata": {},
   "outputs": [],
   "source": [
    "integrator.state[-1]"
   ]
  },
  {
   "cell_type": "code",
   "execution_count": 103,
   "metadata": {},
   "outputs": [],
   "source": [
    "def l96_check_cold(ic, integrator): # M State class needs such a function for initialisation\n",
    "    \"\"\"\n",
    "    Checks whether a given ic ends up at the cold point.\n",
    "    \"\"\"\n",
    "    \n",
    "    integrator.set_state(ic)\n",
    "    tau = 0.1 # How long we integrate between checks, will effect how efficient we are\n",
    "    \n",
    "    for i in range(1000): # How many checks we make\n",
    "        integrator.integrate(tau)\n",
    "        if integrator.state[-1] < 260.0: #Threshold for being cold #ENSURE YOUR COLD IC MATCHES THE TRUE statement\n",
    "            return True\n",
    "        elif integrator.state[-1] > 290.0: #Threshold for being hot\n",
    "            return False  \n",
    "    return None"
   ]
  },
  {
   "cell_type": "code",
   "execution_count": 112,
   "metadata": {},
   "outputs": [
    {
     "data": {
      "application/vnd.jupyter.widget-view+json": {
       "model_id": "8cf9a54324fc4d688e8f5368fe81664e",
       "version_major": 2,
       "version_minor": 0
      },
      "text/plain": [
       "HBox(children=(FloatProgress(value=0.0), HTML(value='')))"
      ]
     },
     "metadata": {},
     "output_type": "display_data"
    },
    {
     "name": "stdout",
     "output_type": "stream",
     "text": [
      "\n"
     ]
    },
    {
     "data": {
      "text/plain": [
       "[<matplotlib.lines.Line2D at 0x153a9ca80410>]"
      ]
     },
     "execution_count": 112,
     "metadata": {},
     "output_type": "execute_result"
    },
    {
     "data": {
      "image/png": "[encoded data removed]",
      "text/plain": [
       "<Figure size 432x288 with 1 Axes>"
      ]
     },
     "metadata": {
      "needs_background": "light"
     },
     "output_type": "display_data"
    }
   ],
   "source": [
    "tau = 0.01\n",
    "\n",
    "integrator = l96ebm.Integrator()\n",
    "cold_init = integrator.state\n",
    "cold_init[-1] = 255\n",
    "\n",
    "hot_init = integrator.state\n",
    "hot_init[-1] = 291\n",
    "\n",
    "mstate = MStateAlgorithm(integrator, l96_check_cold, tau, [cold_init, hot_init])\n",
    "mstate.run(100)\n",
    "plt.plot(np.vstack(mstate.hot_ts)[:, -1],'.-')\n",
    "plt.plot(np.vstack(mstate.cold_ts)[:, -1],'.-')"
   ]
  },
  {
   "cell_type": "code",
   "execution_count": 113,
   "metadata": {},
   "outputs": [
    {
     "data": {
      "image/png": "[encoded data removed]",
      "text/plain": [
       "<Figure size 432x288 with 1 Axes>"
      ]
     },
     "metadata": {
      "needs_background": "light"
     },
     "output_type": "display_data"
    },
    {
     "data": {
      "text/plain": [
       "[<matplotlib.lines.Line2D at 0x153a9c068c10>]"
      ]
     },
     "execution_count": 113,
     "metadata": {},
     "output_type": "execute_result"
    },
    {
     "data": {
      "image/png": "[encoded data removed]",
      "text/plain": [
       "<Figure size 432x288 with 1 Axes>"
      ]
     },
     "metadata": {
      "needs_background": "light"
     },
     "output_type": "display_data"
    }
   ],
   "source": [
    "plt.plot(np.vstack(mstate.hot_ts)[5:, -3],'.-')\n",
    "plt.show()\n",
    "plt.plot(np.mean(np.vstack(mstate.cold_ts)[5:, :-2], axis=1), np.vstack(mstate.hot_ts)[5:, -1],'.-')"
   ]
  },
  {
   "cell_type": "code",
   "execution_count": 116,
   "metadata": {},
   "outputs": [
    {
     "data": {
      "text/plain": [
       "1746.0999999995065"
      ]
     },
     "execution_count": 116,
     "metadata": {},
     "output_type": "execute_result"
    }
   ],
   "source": [
    "mstate.integrator.time"
   ]
  },
  {
   "cell_type": "code",
   "execution_count": null,
   "metadata": {},
   "outputs": [],
   "source": [
    "integrator.set_state(cold_init)"
   ]
  },
  {
   "cell_type": "code",
   "execution_count": 51,
   "metadata": {},
   "outputs": [],
   "source": [
    "integrator = l96ebm.Integrator()"
   ]
  },
  {
   "cell_type": "code",
   "execution_count": 55,
   "metadata": {},
   "outputs": [],
   "source": [
    "integrator.integrate(10)"
   ]
  },
  {
   "cell_type": "code",
   "execution_count": 98,
   "metadata": {},
   "outputs": [
    {
     "name": "stderr",
     "output_type": "stream",
     "text": [
      "100%|██████████| 1000/1000 [00:22<00:00, 44.68it/s]\n"
     ]
    }
   ],
   "source": [
    "runner = l96ebm.Integrator()\n",
    "runner.set_state(cold_init)\n",
    "looker = l96ebm.TrajectoryObserver(runner)\n",
    "l96ebm.make_observations(runner, looker, 1000, 1, noprog=False)"
   ]
  },
  {
   "cell_type": "code",
   "execution_count": 114,
   "metadata": {},
   "outputs": [
    {
     "data": {
      "text/plain": [
       "1000"
      ]
     },
     "execution_count": 114,
     "metadata": {},
     "output_type": "execute_result"
    }
   ],
   "source": [
    "runner.time"
   ]
  },
  {
   "cell_type": "code",
   "execution_count": 99,
   "metadata": {},
   "outputs": [
    {
     "data": {
      "text/plain": [
       "[<matplotlib.lines.Line2D at 0x153a9c3f5710>]"
      ]
     },
     "execution_count": 99,
     "metadata": {},
     "output_type": "execute_result"
    },
    {
     "data": {
      "image/png": "[encoded data removed]",
      "text/plain": [
       "<Figure size 432x288 with 1 Axes>"
      ]
     },
     "metadata": {
      "needs_background": "light"
     },
     "output_type": "display_data"
    }
   ],
   "source": [
    "looker.observations.T.plot()"
   ]
  },
  {
   "cell_type": "code",
   "execution_count": null,
   "metadata": {},
   "outputs": [],
   "source": [
    "# TO DO: FINISH THIS MSTATE OBSERVER CLASS SO THAT YOU CAN PLOT THE MSTATE\n",
    "\n",
    "\n",
    "class L96_MState_Observer()\n",
    "    \"\"\"Observes the Mstate of L96 EBM model. Dumps to netcdf.\"\"\"\n",
    "\n",
    "    def __init__(self, mstate_alg, name='L96-EBM-MState'):\n",
    "        \"\"\"param, integrator: integrator being observed.\"\"\"\n",
    "        \n",
    "        self.name = name\n",
    "        self.dump_count = 0\n",
    "\n",
    "        # Needed knowledge of the integrator\n",
    "        self._parameters = mstate.integrator.parameter_dict\n",
    "        self._K = mstate.integrator.K\n",
    "\n",
    "        # Trajectory Observation logs\n",
    "        self.time_obs = [] # Times we've made observations\n",
    "        self.x_obs = []\n",
    "        self.t_obs = []\n",
    "\n",
    "    def look(self, mstate):\n",
    "        \"\"\"Observes trajectory of L96 trajectory\"\"\"\n",
    "\n",
    "        # Note the time\n",
    "        self.time_obs.append(mstate.time)\n",
    "\n",
    "        # Making Observations\n",
    "        \n",
    "        self.x_obs.append(integrator.X.copy())\n",
    "        self.t_obs.append(*integrator.T.copy())\n",
    "        return\n",
    "\n",
    "    @property\n",
    "    def observations(self):\n",
    "        \"\"\"cupboard: Directory where to write netcdf.\"\"\"\n",
    "        if (len(self.x_obs) == 0):\n",
    "            print('I have no observations! :(')\n",
    "            return\n",
    "\n",
    "        dic = {}\n",
    "        _time = self.time_obs\n",
    "        dic['X'] = xr.DataArray(self.x_obs, dims=['time', 'space'], name='X',\n",
    "                                coords = {'time': _time,'space': np.arange(1, 1 + self._K)})\n",
    "        dic['T'] = xr.DataArray(self.t_obs, dims=['time'], name='T',\n",
    "                                coords = {'time': _time})\n",
    "        return xr.Dataset(dic, attrs= self._parameters)\n",
    "\n",
    "    def wipe(self):\n",
    "        \"\"\"Erases observations\"\"\"\n",
    "        self.time_obs = []\n",
    "        self.x_obs = []\n",
    "        self.t_obs = []\n",
    "\n",
    "    def dump(self, cupboard, name=None):\n",
    "        \"\"\" Saves observations to netcdf and wipes.\n",
    "        cupboard: Directory where to write netcdf.\n",
    "        name: file name\"\"\"\n",
    "\n",
    "        if (len(self.x_obs) == 0):\n",
    "            print('I have no observations! :(')\n",
    "            return\n",
    "\n",
    "        if name == None:\n",
    "            name=self.name\n",
    "\n",
    "        save = cupboard + f'/{name}' + f'{self.dump_count + 1}.nc'\n",
    "        self.observations.to_netcdf(save)\n",
    "        print(f'Observations written to {save}. Erasing personal log.\\n')\n",
    "        self.wipe()\n",
    "        self.dump_count +=1"
   ]
  },
  {
   "cell_type": "code",
   "execution_count": 124,
   "metadata": {},
   "outputs": [
    {
     "ename": "AttributeError",
     "evalue": "'MStateAlgorithm' object has no attribute 'state'",
     "output_type": "error",
     "traceback": [
      "\u001b[0;31m---------------------------------------------------------------------------\u001b[0m",
      "\u001b[0;31mAttributeError\u001b[0m                            Traceback (most recent call last)",
      "\u001b[0;32m<ipython-input-124-2d1c9a332726>\u001b[0m in \u001b[0;36m<module>\u001b[0;34m\u001b[0m\n\u001b[0;32m----> 1\u001b[0;31m \u001b[0mmstate\u001b[0m\u001b[0;34m.\u001b[0m\u001b[0mstate\u001b[0m\u001b[0;34m\u001b[0m\u001b[0;34m\u001b[0m\u001b[0m\n\u001b[0m",
      "\u001b[0;31mAttributeError\u001b[0m: 'MStateAlgorithm' object has no attribute 'state'"
     ]
    }
   ],
   "source": [
    "mstate.state"
   ]
  },
  {
   "cell_type": "code",
   "execution_count": null,
   "metadata": {},
   "outputs": [],
   "source": []
  }
 ],
 "metadata": {
  "kernelspec": {
   "display_name": "personalpy3 (conda)",
   "language": "python",
   "name": "personalpy3"
  },
  "language_info": {
   "codemirror_mode": {
    "name": "ipython",
    "version": 3
   },
   "file_extension": ".py",
   "mimetype": "text/x-python",
   "name": "python",
   "nbconvert_exporter": "python",
   "pygments_lexer": "ipython3",
   "version": "3.7.7"
  }
 },
 "nbformat": 4,
 "nbformat_minor": 2
}
