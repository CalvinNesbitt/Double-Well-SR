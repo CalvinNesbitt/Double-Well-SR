{
 "cells": [
  {
   "cell_type": "markdown",
   "metadata": {},
   "source": [
    "# Transition Time Calculation\n",
    "\n",
    "In this notebook we estimate the transition time from the quasipotential height. This is based on equation 237 of the Touchetter review paper [1].\n",
    "\n",
    "[1] doi: 10.1016/j.physrep.2009.05.002"
   ]
  },
  {
   "cell_type": "code",
   "execution_count": 3,
   "metadata": {},
   "outputs": [],
   "source": [
    "cluster = False"
   ]
  },
  {
   "cell_type": "code",
   "execution_count": 1,
   "metadata": {},
   "outputs": [
    {
     "ename": "NameError",
     "evalue": "name 'cluster' is not defined",
     "output_type": "error",
     "traceback": [
      "\u001b[0;31m---------------------------------------------------------------------------\u001b[0m",
      "\u001b[0;31mNameError\u001b[0m                                 Traceback (most recent call last)",
      "\u001b[0;32m<ipython-input-1-835f25b8db84>\u001b[0m in \u001b[0;36m<module>\u001b[0;34m\u001b[0m\n\u001b[1;32m     11\u001b[0m \u001b[0;31m# MAM Code Imports\u001b[0m\u001b[0;34m\u001b[0m\u001b[0;34m\u001b[0m\u001b[0;34m\u001b[0m\u001b[0m\n\u001b[1;32m     12\u001b[0m \u001b[0;32mimport\u001b[0m \u001b[0msys\u001b[0m\u001b[0;34m\u001b[0m\u001b[0;34m\u001b[0m\u001b[0m\n\u001b[0;32m---> 13\u001b[0;31m \u001b[0;32mif\u001b[0m \u001b[0mcluster\u001b[0m\u001b[0;34m:\u001b[0m\u001b[0;34m\u001b[0m\u001b[0;34m\u001b[0m\u001b[0m\n\u001b[0m\u001b[1;32m     14\u001b[0m     \u001b[0msys\u001b[0m\u001b[0;34m.\u001b[0m\u001b[0mpath\u001b[0m\u001b[0;34m.\u001b[0m\u001b[0mappend\u001b[0m\u001b[0;34m(\u001b[0m\u001b[0;34m'/rds/general/user/cfn18/home/Instantons/L96-EBM-Instanton'\u001b[0m\u001b[0;34m)\u001b[0m\u001b[0;34m\u001b[0m\u001b[0;34m\u001b[0m\u001b[0m\n\u001b[1;32m     15\u001b[0m \u001b[0;32melse\u001b[0m\u001b[0;34m:\u001b[0m\u001b[0;34m\u001b[0m\u001b[0;34m\u001b[0m\u001b[0m\n",
      "\u001b[0;31mNameError\u001b[0m: name 'cluster' is not defined"
     ]
    }
   ],
   "source": [
    "# Package Impoerts\n",
    "import os\n",
    "import pickle\n",
    "import xarray as xr\n",
    "from tqdm.notebook import tqdm\n",
    "import matplotlib.pyplot as plt\n",
    "# import jax.numpy as jnp\n",
    "import numpy.linalg as la\n",
    "\n",
    "\n",
    "# MAM Code Imports\n",
    "import sys\n",
    "if cluster:\n",
    "    sys.path.append('/rds/general/user/cfn18/home/Instantons/L96-EBM-Instanton')\n",
    "else:\n",
    "    sys.path.append('/Users/cfn18/Desktop/L96-EBM-Instanton')\n",
    "\n",
    "\n",
    "from fw_action import *\n",
    "from mam_jax import *"
   ]
  },
  {
   "cell_type": "markdown",
   "metadata": {},
   "source": [
    "## Loading Data"
   ]
  },
  {
   "cell_type": "code",
   "execution_count": null,
   "metadata": {},
   "outputs": [],
   "source": [
    "# MAM Results\n",
    "\n",
    "c2s_mam = []\n",
    "h2s_mam = []\n",
    "\n",
    "# Cold to Saddle Instantons\n",
    "\n",
    "wd = 'Data/varying-alpha/cold-to-saddle/'\n",
    "files = os.listdir(wd)\n",
    "files.sort()\n",
    "for s in files:\n",
    "    with open(wd + s, 'rb') as file:\n",
    "        print(f'Opening {wd + s}')\n",
    "        c2s_mam.append(pickle.load(file))\n",
    "        \n",
    "\n",
    "# Hot to Saddle Instantons\n",
    "wd = 'Data/varying-alpha/hot-to-saddle/'\n",
    "files = os.listdir(wd)\n",
    "files.sort()\n",
    "for s in files:\n",
    "    with open(wd + s, 'rb') as file:\n",
    "        print(f'Opening {wd + s}')\n",
    "        h2s_mam.append(pickle.load(file))\n",
    "        \n",
    "# Heteroclinic Orbits\n",
    "\n",
    "files = [f'../Deterministic-Model/Data/alpha{a}/cold-relaxation.nc' for a in ['0_0', '1_0']]\n",
    "\n",
    "cold_relaxations = [xr.open_dataset(f) for f in files]"
   ]
  },
  {
   "cell_type": "markdown",
   "metadata": {},
   "source": [
    "## Calculating Quasipotential height - Cold to Saddle Case"
   ]
  },
  {
   "cell_type": "code",
   "execution_count": null,
   "metadata": {},
   "outputs": [],
   "source": [
    "def path_lengths(x):\n",
    "    return np.sqrt((x[:, 0] - x[0, 0])**2 + (x[:, 1] - x[0, 1])**2)"
   ]
  },
  {
   "cell_type": "code",
   "execution_count": null,
   "metadata": {},
   "outputs": [],
   "source": [
    "def grad_V(x):\n",
    "    return jnp.array([x[0]*(x[0]**2 -1), 2 * x[1]])"
   ]
  },
  {
   "cell_type": "code",
   "execution_count": null,
   "metadata": {},
   "outputs": [],
   "source": [
    "R = np.array([[0, -1], [1, 0]]) # 90 degree rotation matrix\n",
    "\n",
    "def drift(x, s):\n",
    "    alpha, eps = s\n",
    "    return - jnp.matmul((jnp.eye(2) + alpha * R), grad_V(x))\n",
    "\n",
    "r = 1.\n",
    "D = np.zeros((2, 2))\n",
    "D[0, 0] = 1\n",
    "D[1, 1] = r**2\n",
    "Dinv = la.inv(D)\n",
    "\n",
    "def diff_inv(x, s):\n",
    "    return Dinv\n",
    "\n",
    "alpha = mam_data['alpha']\n",
    "eps = 10^-4\n",
    "\n",
    "p = np.array([alpha, eps])\n",
    "\n",
    "fw = FreidlinWentzell(drift, diff_inv)"
   ]
  },
  {
   "cell_type": "code",
   "execution_count": null,
   "metadata": {},
   "outputs": [],
   "source": [
    "# Choose data to load\n",
    "mam_data = c2s_mam[-1]\n",
    "relaxation_data = cold_relaxations[-1]\n",
    "print(relaxation_data.alpha)\n",
    "print(mam_data['alpha'])\n",
    "\n",
    "alpha = mam_data['alpha']\n",
    "eps = 10^-4\n",
    "\n",
    "p = np.array([alpha, eps])\n",
    "\n",
    "# Unpack data\n",
    "instanton_time = mam_data['time']\n",
    "relaxation_time = relaxation_data.time.values\n",
    "instanton = mam_data['instanton']\n",
    "reverse_relaxation = np.flip(np.stack((relaxation_data.x.values, relaxation_data.y.values)).T, axis=0)"
   ]
  },
  {
   "cell_type": "code",
   "execution_count": null,
   "metadata": {},
   "outputs": [],
   "source": [
    "fig, axes = plt.subplots(ncols=2, figsize = (20, 10))\n",
    "axes[0].plot(instanton[:, 0], instanton[:, 1], label='Instanton')\n",
    "axes[0].plot(reverse_relaxation[:, 0], reverse_relaxation[:, 1], label='Relaxation Path')\n",
    "axes[0].legend()\n",
    "\n",
    "# Action Value Plot\n",
    "\n",
    "# Instanton\n",
    "av = fw.action(instanton, instanton_time, p)\n",
    "lbl = f'Instanton.\\nAction Value = {av:.3f}.'\n",
    "axes[1].plot(path_lengths(instanton), fw.lagrangians(instanton, instanton_time, p), label = lbl)\n",
    "\n",
    "# Revrse Relaxation Path\n",
    "av = fw.action(reverse_relaxation, relaxation_time, p)\n",
    "lbl = f'Reverse Relaxation Path.\\nAction Value = {av:.3f}.'\n",
    "axes[1].plot(path_lengths(reverse_relaxation), fw.lagrangians(reverse_relaxation, relaxation_time, p), label=lbl)\n",
    "axes[1].legend()"
   ]
  },
  {
   "cell_type": "code",
   "execution_count": null,
   "metadata": {},
   "outputs": [],
   "source": [
    "fig_tmp, ax_tmp = plt.subplots()\n",
    "x, y = np.mgrid[0:2.5:1000j, -2.5:2.5:1000j]\n",
    "vx, vy = np.cos(x - y), np.sin(x - y)\n",
    "res = ax_tmp.streamplot(x.T, y.T, vx, vy, color='k')\n",
    "fig_tmp.show()\n",
    "# extract the lines from the temporary figure\n",
    "lines = res.lines.get_paths()\n",
    "#for l in lines:\n",
    "#    plot(l.vertices.T[0],l.vertices.T[1],'k')\n",
    "\n",
    "fig = plt.figure()\n",
    "ax = fig.add_subplot(111, projection='3d')\n",
    "for line in lines:\n",
    "    old_x = line.vertices.T[0]\n",
    "    old_y = line.vertices.T[1]\n",
    "    # apply for 2d to 3d transformation here\n",
    "    new_z = np.exp(-(old_x ** 2 + old_y ** 2) / 4)\n",
    "    new_x = 1.2 * old_x\n",
    "    new_y = 0.8 * old_y\n",
    "    ax.plot(new_x, new_y, new_z, 'k')"
   ]
  },
  {
   "cell_type": "code",
   "execution_count": null,
   "metadata": {},
   "outputs": [],
   "source": [
    "import numpy as np"
   ]
  },
  {
   "cell_type": "code",
   "execution_count": null,
   "metadata": {},
   "outputs": [],
   "source": []
  }
 ],
 "metadata": {
  "kernelspec": {
   "display_name": "iris_course",
   "language": "python",
   "name": "iris_course"
  }
 },
 "nbformat": 4,
 "nbformat_minor": 2
}
