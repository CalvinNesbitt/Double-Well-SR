{
 "cells": [
  {
   "cell_type": "markdown",
   "metadata": {},
   "source": [
    "# Plotting Path Density\n",
    "\n",
    "In this notebook we make a plot to compare the result of observed transitions with the instanton + het orbit path\n"
   ]
  },
  {
   "cell_type": "code",
   "execution_count": null,
   "metadata": {},
   "outputs": [],
   "source": [
    "import xarray as xr\n",
    "import sys \n",
    "sys.path.append('/rds/general/user/cfn18/home/Double-Well-SR/Calculating-Transition-Rate/')\n",
    "from calculating_transition_times import transition_file_list\n",
    "import os\n",
    "from tqdm.notebook import tqdm\n",
    "import matplotlib as mpl\n",
    "import matplotlib.pyplot as plt\n",
    "import numpy as np\n",
    "import pickle\n",
    "\n",
    "import seaborn as sns\n",
    "cp = sns.color_palette(\"tab10\")\n",
    "cp"
   ]
  },
  {
   "cell_type": "markdown",
   "metadata": {},
   "source": [
    "## Getting stochastic integration transition data"
   ]
  },
  {
   "cell_type": "code",
   "execution_count": null,
   "metadata": {},
   "outputs": [],
   "source": [
    "# Getting x and y info\n",
    "\n",
    "x_dict = {}\n",
    "y_dict = {}\n",
    "eps = 0.1\n",
    "sample_size = 1000 #atm we have like 3000 transition max\n",
    "\n",
    "for a in alphas:\n",
    "    xs = []\n",
    "    ys = []\n",
    "    transition_files = transition_file_list(a, eps, c2h=True, cluster=True)\n",
    "\n",
    "    for file in tqdm(transition_files[:1000]):\n",
    "        da = xr.open_dataset(file)\n",
    "        xs.append(da.x.values)\n",
    "        x_dict[a] = xs\n",
    "        ys.append(da.y.values)\n",
    "        y_dict[a] = ys\n",
    "        da.close()\n",
    "\n"
   ]
  },
  {
   "cell_type": "markdown",
   "metadata": {},
   "source": [
    "## Get MAM Data and Het orbits"
   ]
  },
  {
   "cell_type": "code",
   "execution_count": null,
   "metadata": {},
   "outputs": [],
   "source": [
    "# MAM Results\n",
    "\n",
    "instantons = {}\n",
    "wd = '../Minimisation/Data/varying-alpha/cold-to-saddle/'\n",
    "for s in os.listdir(wd):\n",
    "    with open(wd + s, 'rb') as file:\n",
    "        print(f'Opening {wd + s}')\n",
    "        mam_dict = pickle.load(file)\n",
    "        instantons[mam_dict['alpha']] = mam_dict['instanton']\n",
    "\n",
    "# Heteroclinic Orbits\n",
    "alphas = [0.0, 0.25, 0.5, 1.0]\n",
    "het_orbits = {}\n",
    "for a in alphas:\n",
    "    alpha_str = str(a).replace('.', '_')\n",
    "    file_name = f'../Deterministic-Model/Data/alpha{alpha_str}/hot-relaxation.nc' \n",
    "    het_orbit = xr.open_dataset(file_name) \n",
    "    het_orbits[a] = het_orbit"
   ]
  },
  {
   "cell_type": "markdown",
   "metadata": {},
   "source": [
    "## Doing the plot"
   ]
  },
  {
   "cell_type": "code",
   "execution_count": null,
   "metadata": {},
   "outputs": [],
   "source": [
    "# Function for a streamfield background\n",
    "\n",
    "def streamfield_background(alpha, ax): \n",
    "    # Plot Misc\n",
    "    ax.set_xlim((-1.5, 1.5))\n",
    "    ax.set_ylim((-1, 1))\n",
    "    ax.set_xlabel('x')\n",
    "    ax.set_ylabel('y')\n",
    "\n",
    "\n",
    "    # alpha label\n",
    "    ax.text(-1.2, 0.8, fr'$\\alpha = {alpha:.2f}$', fontsize=15, bbox={'facecolor': '1', 'pad': 10}) #\n",
    "\n",
    "    # Gradient Arrows\n",
    "    x = np.linspace(-1.5, 1.5, 100)\n",
    "    y = np.linspace(-1, 1, 100)\n",
    "    X, Y = np.meshgrid(x, y)\n",
    "    vx = X*(X**2 - 1) - 2 * alpha * Y \n",
    "    vy = alpha *X*(X**2 - 1) + 2 * Y \n",
    "    speed = np.sqrt(vx**2 + vy**2)\n",
    "    ax.streamplot(x, y, -vx, -vy, color='0')\n",
    "    # ax.pcolormesh(X, Y, speed, cmap = 'Blues') \n",
    "\n",
    "    # Fixed Points\n",
    "    cold_point = plt.Circle((-1, 0), 0.1, color='b', alpha=0.5)\n",
    "    mid_point = plt.Circle((0, 0), 0.1, color='g', alpha=0.5)\n",
    "    hot_point = plt.Circle((1, 0), 0.1, color='r', alpha=0.5)\n",
    "    ax.add_patch(cold_point)\n",
    "#     ax.add_patch(mid_point)\n",
    "    ax.add_patch(hot_point)\n",
    "    return ax"
   ]
  },
  {
   "cell_type": "code",
   "execution_count": null,
   "metadata": {},
   "outputs": [],
   "source": [
    "# Code where the plot is realised\n",
    "aspect = 3/4\n",
    "size = 8\n",
    "fig, axes = plt.subplots(1, 2, figsize = (size, aspect * size))\n",
    "\n",
    "for a, ax in zip([0.0, 1.0], axes.flatten()):\n",
    "    instanton = instantons[a]\n",
    "    het_orbit = het_orbits[a]\n",
    "    ax.plot(instanton[:, 0], instanton[:, 1], color=cp[3], lw=3, label='Minimiser')\n",
    "    ax.plot(het_orbit.x, het_orbit.y, '--', color=cp[3], lw=3, label='Heteroclinic Orbit')\n",
    "    ax.legend()\n",
    "    streamfield_background(a, ax)\n",
    "    \n",
    "    h = ax.hist2d(np.hstack(x_dict[a]), np.hstack(y_dict[a]), range= [[-1.5, 1.5], [-1, 1]], bins=100, density=True,\n",
    "               cmap=mpl.cm.Blues, cmin=0.1, norm=mpl.colors.LogNorm())\n",
    "    fig.colorbar(h, cax=ax)\n"
   ]
  },
  {
   "cell_type": "code",
   "execution_count": null,
   "metadata": {},
   "outputs": [],
   "source": [
    "fig.savefig('Path-Density-Verification.pdf')"
   ]
  },
  {
   "cell_type": "code",
   "execution_count": null,
   "metadata": {},
   "outputs": [],
   "source": []
  }
 ],
 "metadata": {
  "kernelspec": {
   "display_name": "personalpy3 (conda)",
   "language": "python",
   "name": "personalpy3"
  },
  "language_info": {
   "codemirror_mode": {
    "name": "ipython",
    "version": 3
   },
   "file_extension": ".py",
   "mimetype": "text/x-python",
   "name": "python",
   "nbconvert_exporter": "python",
   "pygments_lexer": "ipython3",
   "version": "3.7.7"
  }
 },
 "nbformat": 4,
 "nbformat_minor": 2
}
