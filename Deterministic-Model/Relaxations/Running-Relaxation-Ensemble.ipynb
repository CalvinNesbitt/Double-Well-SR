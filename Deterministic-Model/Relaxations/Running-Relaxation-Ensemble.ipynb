{
 "cells": [
  {
   "cell_type": "markdown",
   "metadata": {},
   "source": [
    "# 2D Well Relaxations\n",
    "\n",
    "In this notebook we compute relaxtion paths for the the deterministic warped double well model."
   ]
  },
  {
   "cell_type": "markdown",
   "metadata": {},
   "source": [
    "## Imports"
   ]
  },
  {
   "cell_type": "code",
   "execution_count": 56,
   "metadata": {},
   "outputs": [],
   "source": [
    "# Standard imports \n",
    "import sys\n",
    "import numpy.random as rm\n",
    "import os\n",
    "from tqdm.notebook import tqdm\n",
    "\n",
    "# Integrator\n",
    "integrator_path = '/Users/cfn18/Documents/PhD-Work/Third-Year/Instanton-Work/Double-Well-SR/'\n",
    "sys.path.append(integrator_path)\n",
    "from deterministic_double_well import *"
   ]
  },
  {
   "cell_type": "markdown",
   "metadata": {},
   "source": [
    "## Functions to Run Relaxations"
   ]
  },
  {
   "cell_type": "code",
   "execution_count": 70,
   "metadata": {},
   "outputs": [],
   "source": [
    "def run_relaxtion(ic, T, dt, alpha, save_name):\n",
    "    runner = FancyWellIntegrator(alpha, X_init = ic)\n",
    "    looker = TrajectoryObserver(runner)\n",
    "    make_observations(runner, looker, T/dt, dt)\n",
    "    ds = looker.observations\n",
    "    ds.to_netcdf(save_name)\n",
    "    return\n",
    "\n",
    "def run_relaxation_ensemble(ics, T, dt, alpha, pd, timer=True):\n",
    "    \n",
    "    if not os.path.exists(pd):\n",
    "        os.makedirs(pd)\n",
    "        print(f'Made directory at {pd}')\n",
    "    \n",
    "    for i, ic in enumerate(tqdm(ics, disable = not timer)):\n",
    "        save_name = pd + f'/{i+1}.nc'\n",
    "        run_relaxtion(ic, T, dt, alpha, save_name)\n",
    "    return"
   ]
  },
  {
   "cell_type": "markdown",
   "metadata": {},
   "source": [
    "## Running Integration"
   ]
  },
  {
   "cell_type": "code",
   "execution_count": 71,
   "metadata": {},
   "outputs": [
    {
     "name": "stdout",
     "output_type": "stream",
     "text": [
      "Made directory at /Users/cfn18/Documents/PhD-Work/Third-Year/Instanton-Work/Double-Well-SR/Deterministic-Model/Relaxations/Data/alpha_0_500\n"
     ]
    },
    {
     "data": {
      "application/vnd.jupyter.widget-view+json": {
       "model_id": "14dc370f4ee4466e95a5e84a4ad8c2bf",
       "version_major": 2,
       "version_minor": 0
      },
      "text/plain": [
       "  0%|          | 0/50 [00:00<?, ?it/s]"
      ]
     },
     "metadata": {},
     "output_type": "display_data"
    }
   ],
   "source": [
    "alpha = 0.5\n",
    "number_of_ic = 50\n",
    "dt = 0.01\n",
    "T = 6\n",
    "\n",
    "# Sample initial conditions from spread around the saddle point \n",
    "ics = rm.uniform(low=[-0.1, -0.1], high=[0, 0], size=(number_of_ic, 2)) \n",
    "\n",
    "data_pd = '/Users/cfn18/Documents/PhD-Work/Third-Year/Instanton-Work/Double-Well-SR/Deterministic-Model/Relaxations/Data'\n",
    "alpha_pd = data_pd + f'/alpha_{alpha:.3f}'.replace('.', '_')\n",
    "run_relaxation_ensemble(ics, T, dt, alpha, alpha_pd)"
   ]
  },
  {
   "cell_type": "code",
   "execution_count": null,
   "metadata": {},
   "outputs": [],
   "source": []
  }
 ],
 "metadata": {
  "kernelspec": {
   "display_name": "iris_course",
   "language": "python",
   "name": "iris_course"
  },
  "language_info": {
   "codemirror_mode": {
    "name": "ipython",
    "version": 3
   },
   "file_extension": ".py",
   "mimetype": "text/x-python",
   "name": "python",
   "nbconvert_exporter": "python",
   "pygments_lexer": "ipython3",
   "version": "3.8.10"
  }
 },
 "nbformat": 4,
 "nbformat_minor": 2
}
