{
 "cells": [
  {
   "cell_type": "markdown",
   "metadata": {},
   "source": [
    "# Invariant Measure of the 2d Rotated Well"
   ]
  },
  {
   "cell_type": "code",
   "execution_count": 9,
   "metadata": {},
   "outputs": [],
   "source": [
    "import xarray as xr\n",
    "import matplotlib.pyplot as plt\n",
    "import numpy as np\n",
    "import os\n",
    "import seaborn as sns\n",
    "import pandas as pd\n",
    "sns.set_theme(style=\"darkgrid\")\n",
    "import matplotlib as mpl\n"
   ]
  },
  {
   "cell_type": "markdown",
   "metadata": {},
   "source": [
    "## Loading Data"
   ]
  },
  {
   "cell_type": "code",
   "execution_count": null,
   "metadata": {},
   "outputs": [],
   "source": [
    "data_dir = 'Data/eps0_1/'\n",
    "alpha_dirs = [data_dir + a +'/' for a  in os.listdir(data_dir)]\n",
    "# Order dirs by alpha\n",
    "alpha_order = [3, 2, 1, 0]\n",
    "alpha_dirs = [alpha_dirs[i] for i in alpha_order]"
   ]
  },
  {
   "cell_type": "code",
   "execution_count": null,
   "metadata": {},
   "outputs": [],
   "source": [
    "alpha_dirs"
   ]
  },
  {
   "cell_type": "code",
   "execution_count": null,
   "metadata": {},
   "outputs": [],
   "source": [
    "cold_data = []\n",
    "hot_data = []\n",
    "for a in alpha_dirs:\n",
    "    ds = xr.open_dataset(a + '/hot-ensemble/1.nc')\n",
    "    hot_data.append(ds)\n",
    "    ds = xr.open_dataset(a + '/cold-ensemble/1.nc')\n",
    "    cold_data.append(ds)"
   ]
  },
  {
   "cell_type": "code",
   "execution_count": null,
   "metadata": {},
   "outputs": [],
   "source": [
    "cold_data"
   ]
  },
  {
   "cell_type": "code",
   "execution_count": null,
   "metadata": {},
   "outputs": [],
   "source": [
    "dfs = []\n",
    "for ds in hot_data:\n",
    "    df = pd.DataFrame({'alpha': ds.alpha, 'x': ds.x.values.flatten(), 'y': ds.y.values.flatten()})\n",
    "    dfs.append(df)\n",
    "d = pd.concat(dfs)\n",
    "print('Plotting')\n",
    "%time sns.jointplot(data=d, x='x', y='y', hue='alpha', kind=\"hist\", bins=50)"
   ]
  },
  {
   "cell_type": "code",
   "execution_count": null,
   "metadata": {},
   "outputs": [],
   "source": []
  },
  {
   "cell_type": "code",
   "execution_count": null,
   "metadata": {},
   "outputs": [],
   "source": [
    "# Plotting Invariant Measure: X and Y Marginals\n",
    "\n",
    "fig, axes = plt.subplots(ncols=2, figsize=(15, 8))\n",
    "\n",
    "\n",
    "for i in range(len(hot_data)):\n",
    "   \n",
    "    # Collecting both hot and cold data\n",
    "\n",
    "    h_ds = hot_data[i]\n",
    "    c_ds = cold_data[i]\n",
    "    alpha = c_ds.alpha\n",
    "    \n",
    "    x_data = np.append(c_ds.x.values.flatten(), (h_ds.x.values.flatten()))\n",
    "    y_data = np.append(c_ds.y.values.flatten(), (h_ds.y.values.flatten()))\n",
    "\n",
    "    # Plotting the histogram\n",
    "    axes[0].hist(x_data, histtype='step', bins=500, label=f'{alpha:.2f}', density='True')\n",
    "    axes[1].hist(y_data, histtype='step', bins=500, label=f'{alpha:.2f}', density='True')\n",
    "\n",
    "\n",
    "for ax in axes:\n",
    "    ax.legend(title= '$\\\\alpha$')\n",
    "    ax.set_ylabel('$\\log(\\\\rho$)')\n",
    "    ax.set_yscale('log')\n",
    "\n",
    "axes[0].set_title('Invariant Measure: X Density')\n",
    "axes[0].set_xlabel('X')\n",
    "axes[1].set_xlabel('Y')\n",
    "axes[1].set_title('Invariant Measure: Y Density')\n",
    "fig.savefig('Invariant-Meaure-X-and-Y-Marginals.pdf')\n",
    "\n",
    "print(f'Plots made using {len(x_data):.2e} data points')\n",
    "fig.show()"
   ]
  },
  {
   "cell_type": "code",
   "execution_count": null,
   "metadata": {},
   "outputs": [],
   "source": [
    "# Function for Streamfield background\n",
    "\n",
    "def streamfield_background(alpha, ax): \n",
    "    # Plot Misc\n",
    "    ax.set_xlim((-2, 2))\n",
    "    ax.set_ylim((-1, 1))\n",
    "    ax.set_xlabel('x')\n",
    "    ax.set_ylabel('y')\n",
    "\n",
    "\n",
    "    # alpha label\n",
    "    ax.text(-1.2, 0.8, fr'$\\alpha = {alpha:.2f}$', fontsize=15, bbox={'facecolor': '1', 'pad': 10}) #\n",
    "\n",
    "    # Gradient Arrows\n",
    "    x = np.linspace(-2, 2, 100)\n",
    "    y = np.linspace(-1, 1, 100)\n",
    "    X, Y = np.meshgrid(x, y)\n",
    "    vx = X*(X**2 - 1) - 2 * alpha * Y \n",
    "    vy = alpha *X*(X**2 - 1) + 2 * Y \n",
    "    speed = np.sqrt(vx**2 + vy**2)\n",
    "    ax.streamplot(x, y, -vx, -vy, color='0')\n",
    "    # ax.pcolormesh(X, Y, speed, cmap = 'Blues') \n",
    "\n",
    "    # Fixed Points\n",
    "    cold_point = plt.Circle((-1, 0), 0.1, color='b', alpha=0.5)\n",
    "    mid_point = plt.Circle((0, 0), 0.1, color='g', alpha=0.5)\n",
    "    hot_point = plt.Circle((1, 0), 0.1, color='r', alpha=0.5)\n",
    "#     ax.add_patch(cold_point)\n",
    "# #     ax.add_patch(mid_point)\n",
    "#     ax.add_patch(hot_point)\n",
    "    return ax\n",
    "\n",
    "\n",
    "\n",
    "fig, axes = plt.subplots(2, 2, figsize = (16, 16))\n",
    "\n",
    "\n",
    "# Plotting Histogram of Integration results\n",
    "\n",
    "for i in range(len(hot_data)):\n",
    "   \n",
    "    # Collecting both hot and cold data\n",
    "\n",
    "    h_ds = hot_data[i]\n",
    "    c_ds = cold_data[i]\n",
    "    alpha = c_ds.alpha\n",
    "    \n",
    "    x_data = np.append(c_ds.x.values.flatten(), (h_ds.x.values.flatten()))\n",
    "    y_data = np.append(c_ds.y.values.flatten(), (h_ds.y.values.flatten()))\n",
    "    \n",
    "    # Plotting Histogram\n",
    "    ax = axes.flatten()[i]\n",
    "    h = ax.hist2d(x_data, y_data, range= [[-2, 2], [-1, 1]], bins=100, cmap=mpl.cm.Blues, norm=mpl.colors.LogNorm(), density='True')\n",
    "    cbar = fig.colorbar(h[3], ax=ax) #h[3] is count\n",
    "    cbar.ax.set_ylabel('$\\log (\\\\rho)$')\n",
    "    \n",
    "    streamfield_background(alpha, ax)\n",
    "\n",
    "\n",
    "fig.suptitle('Effect of $\\\\alpha$ on Invariant Measure', fontsize=16)\n",
    "fig.savefig('Invariant-Measure-Alpha-Effect.pdf')\n",
    "fig.show()\n"
   ]
  },
  {
   "cell_type": "code",
   "execution_count": null,
   "metadata": {},
   "outputs": [
    {
     "name": "stdout",
     "output_type": "stream",
     "text": [
      "Opening ../Stochastic-Model/Data/eps0_05/alpha_0_0/cold-ensemble/Transition-Data/\n"
     ]
    }
   ],
   "source": [
    "# Stochastic Integration Results\n",
    "dirs = [f'../Stochastic-Model/Data/eps0_05/alpha_{a}/cold-ensemble/Transition-Data/' for a in ['0_0', '1_0']]\n",
    "\n",
    "integration_results = []\n",
    "\n",
    "for d in dirs:\n",
    "    transitions = []\n",
    "    print(f'Opening {d}')\n",
    "    for f in tqdm(os.listdir(d)):\n",
    "        if (f[-3:] == '.nc'):\n",
    "            ds = xr.open_dataset(d + f)\n",
    "            transitions.append(ds)\n",
    "    integration_results.append(transitions)\n",
    "    \n",
    "alpha0_results, alpha1_results = integration_results"
   ]
  },
  {
   "cell_type": "code",
   "execution_count": null,
   "metadata": {},
   "outputs": [],
   "source": [
    "alpha1_results"
   ]
  },
  {
   "cell_type": "code",
   "execution_count": null,
   "metadata": {},
   "outputs": [],
   "source": []
  }
 ],
 "metadata": {
  "kernelspec": {
   "display_name": "Python3 (personal)",
   "language": "python",
   "name": "python3_personal"
  },
  "language_info": {
   "codemirror_mode": {
    "name": "ipython",
    "version": 3
   },
   "file_extension": ".py",
   "mimetype": "text/x-python",
   "name": "python",
   "nbconvert_exporter": "python",
   "pygments_lexer": "ipython3",
   "version": "3.7.7"
  }
 },
 "nbformat": 4,
 "nbformat_minor": 2
}
