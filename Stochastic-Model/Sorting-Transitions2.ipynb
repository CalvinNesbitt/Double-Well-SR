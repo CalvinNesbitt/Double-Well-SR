{
 "cells": [
  {
   "cell_type": "markdown",
   "metadata": {},
   "source": [
    "In this notebook we write the code for sorting transitions timeseries."
   ]
  },
  {
   "cell_type": "markdown",
   "metadata": {},
   "source": [
    "## Loading Data"
   ]
  },
  {
   "cell_type": "code",
   "execution_count": 195,
   "metadata": {},
   "outputs": [
    {
     "ename": "ModuleNotFoundError",
     "evalue": "No module named 'tqdm'",
     "output_type": "error",
     "traceback": [
      "\u001b[0;31m---------------------------------------------------------------------------\u001b[0m",
      "\u001b[0;31mModuleNotFoundError\u001b[0m                       Traceback (most recent call last)",
      "\u001b[0;32m<ipython-input-195-a7bf5d271f79>\u001b[0m in \u001b[0;36m<module>\u001b[0;34m\u001b[0m\n\u001b[1;32m      3\u001b[0m \u001b[0;32mimport\u001b[0m \u001b[0mnumpy\u001b[0m \u001b[0;32mas\u001b[0m \u001b[0mnp\u001b[0m\u001b[0;34m\u001b[0m\u001b[0;34m\u001b[0m\u001b[0m\n\u001b[1;32m      4\u001b[0m \u001b[0;32mimport\u001b[0m \u001b[0mmatplotlib\u001b[0m\u001b[0;34m.\u001b[0m\u001b[0mpyplot\u001b[0m \u001b[0;32mas\u001b[0m \u001b[0mplt\u001b[0m\u001b[0;34m\u001b[0m\u001b[0;34m\u001b[0m\u001b[0m\n\u001b[0;32m----> 5\u001b[0;31m \u001b[0;32mfrom\u001b[0m \u001b[0mtqdm\u001b[0m\u001b[0;34m.\u001b[0m\u001b[0mnotebook\u001b[0m \u001b[0;32mimport\u001b[0m \u001b[0mtqdm\u001b[0m\u001b[0;34m\u001b[0m\u001b[0;34m\u001b[0m\u001b[0m\n\u001b[0m\u001b[1;32m      6\u001b[0m \u001b[0;34m\u001b[0m\u001b[0m\n",
      "\u001b[0;31mModuleNotFoundError\u001b[0m: No module named 'tqdm'"
     ]
    }
   ],
   "source": [
    "import os\n",
    "import xarray as xr\n",
    "import numpy as np\n",
    "import matplotlib.pyplot as plt\n",
    "# from tqdm.notebook import tqdm\n",
    "\n"
   ]
  },
  {
   "cell_type": "code",
   "execution_count": 2,
   "metadata": {},
   "outputs": [],
   "source": [
    "raw_data_dir = '/Users/cfn18/Desktop/Double-Well-SR/Test-Transition-Data/'\n",
    "\n",
    "def nc_test(file_name):\n",
    "    return file_name[-3:] == '.nc'\n",
    "\n",
    "def nc_file_list(d):\n",
    "    nc_list = []\n",
    "    for file in os.listdir(d):\n",
    "        if nc_test(file):\n",
    "            nc_list.append(d + file)\n",
    "    return nc_list\n",
    "\n",
    "integration_files = nc_file_list(raw_data_dir)"
   ]
  },
  {
   "cell_type": "code",
   "execution_count": 3,
   "metadata": {
    "scrolled": false
   },
   "outputs": [],
   "source": [
    "ds_file = integration_files[0]\n",
    "ds = xr.open_mfdataset(ds_file)"
   ]
  },
  {
   "cell_type": "markdown",
   "metadata": {},
   "source": [
    "## Step 1: Tag points in timeseries near fixed points"
   ]
  },
  {
   "cell_type": "code",
   "execution_count": 66,
   "metadata": {},
   "outputs": [],
   "source": [
    "def _tag_cold_points(ts, ball_size=0.1):\n",
    "    return -(np.sqrt((ts.x + 1 )**2 + ts.y **2) < ball_size).values.astype(int)\n",
    "\n",
    "def _tag_hot_points(ts, ball_size=0.1):\n",
    "    return (np.sqrt((ts.x - 1 )**2 + ts.y **2) < ball_size).values.astype(int)\n",
    "\n",
    "def symbolic_ts(ts, ball_size=0.1):\n",
    "    \"\"\"\n",
    "    Identifies all points in a timeseries with -1, 0 or 1.\n",
    "    -1 means you're close to (-1, 0)\n",
    "    1 means you're close to (1, 0)\n",
    "    0 is rest of points.\n",
    "    \"\"\"\n",
    "    cold_points = _tag_cold_points(ts, ball_size)\n",
    "    hot_points = _tag_hot_points(ts, ball_size)\n",
    "    return cold_points + hot_points"
   ]
  },
  {
   "cell_type": "code",
   "execution_count": 106,
   "metadata": {},
   "outputs": [],
   "source": [
    "# Functions take a single timeseries and return transition from hot to cold or vice versa\n",
    "\n",
    "def cold_to_hot_transitions(ts, ball_size=0.1):\n",
    "    c2h = [] # List of transitions\n",
    "    symbolic_path = symbolic_ts(ts, ball_size)\n",
    "    \n",
    "    # Identifying sequences of the form (-1, 0, ..., 0, 1)\n",
    "    for i in np.where(symbolic_path == -1)[0]:\n",
    "        next_hot_point = np.argmax(symbolic_path[i:])\n",
    "        \n",
    "        # Is it only 0's between the -1 and 1?\n",
    "        if (np.sum(symbolic_path[slice(i, i + next_hot_point + 1)]) == 0): \n",
    "            transition = ts.isel(time=slice(i, i + next_hot_point + 1))\n",
    "            c2h.append(transition)\n",
    "    return c2h\n",
    "\n",
    "def hot_to_cold_transitions(ts, ball_size=0.1):\n",
    "    h2c = [] # List of transitions\n",
    "    symbolic_path = symbolic_ts(ts, ball_size)\n",
    "    \n",
    "    # Identifying sequences of the form (1, 0, ..., 0, -1)\n",
    "    for i in np.where(symbolic_path == 1)[0]:\n",
    "        next_cold_point = np.argmin(symbolic_path[i:])\n",
    "        \n",
    "        # Is it only 0's between the 1 and -1?\n",
    "        if (np.sum(symbolic_path[slice(i, i + next_cold_point + 1)]) == 0): \n",
    "            transition = ts.isel(time=slice(i, i + next_cold_point + 1))\n",
    "            h2c.append(transition)\n",
    "    return h2c"
   ]
  },
  {
   "cell_type": "code",
   "execution_count": 204,
   "metadata": {},
   "outputs": [],
   "source": [
    "# TO DO: \n",
    "# Script opening of all datasets\n",
    "# Save all transitions in appropriate places\n",
    "# Arrange this to run in a cluster\n",
    "\n",
    "c2h = []\n",
    "h2c = []\n",
    "for r in ds.realisation:\n",
    "    ts = ds.sel(realisation=r).drop('realisation')\n",
    "    c2h += cold_to_hot_transitions(ts, ball_size)\n",
    "    h2c += hot_to_cold_transitions(ts, ball_size)"
   ]
  },
  {
   "cell_type": "code",
   "execution_count": 209,
   "metadata": {
    "scrolled": false
   },
   "outputs": [],
   "source": [
    "times = []\n",
    "for ts in c2h:\n",
    "    time = ts.time.max() - ts.time.min()\n",
    "    times.append(time)"
   ]
  },
  {
   "cell_type": "code",
   "execution_count": null,
   "metadata": {},
   "outputs": [
    {
     "data": {
      "text/plain": [
       "(array([[0.        , 0.        , 0.67114094, ..., 0.        , 0.        ,\n",
       "         0.        ],\n",
       "        [0.        , 0.67114094, 0.        , ..., 0.        , 0.        ,\n",
       "         0.        ],\n",
       "        [0.        , 0.67114094, 0.        , ..., 0.        , 0.        ,\n",
       "         0.        ],\n",
       "        ...,\n",
       "        [0.67114094, 0.        , 0.        , ..., 0.        , 0.        ,\n",
       "         0.        ],\n",
       "        [0.67114094, 0.        , 0.        , ..., 0.        , 0.        ,\n",
       "         0.        ],\n",
       "        [0.67114094, 0.        , 0.        , ..., 0.        , 0.        ,\n",
       "         0.        ]]),\n",
       " array([ 0.16,  1.65,  3.14,  4.63,  6.12,  7.61,  9.1 , 10.59, 12.08,\n",
       "        13.57, 15.06]),\n",
       " <a list of 14708 BarContainer objects>)"
      ]
     },
     "execution_count": 213,
     "metadata": {},
     "output_type": "execute_result"
    }
   ],
   "source": [
    "plt.hist(times, density=True)"
   ]
  },
  {
   "cell_type": "code",
   "execution_count": null,
   "metadata": {},
   "outputs": [],
   "source": []
  }
 ],
 "metadata": {
  "kernelspec": {
   "display_name": "iris_course",
   "language": "python",
   "name": "iris_course"
  },
  "language_info": {
   "codemirror_mode": {
    "name": "ipython",
    "version": 3
   },
   "file_extension": ".py",
   "mimetype": "text/x-python",
   "name": "python",
   "nbconvert_exporter": "python",
   "pygments_lexer": "ipython3",
   "version": "3.8.10"
  }
 },
 "nbformat": 4,
 "nbformat_minor": 2
}
