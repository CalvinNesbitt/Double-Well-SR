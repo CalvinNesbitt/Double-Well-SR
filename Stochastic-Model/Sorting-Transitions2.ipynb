{
 "cells": [
  {
   "cell_type": "markdown",
   "metadata": {},
   "source": [
    "In this notebook we write the code for sorting transitions timeseries."
   ]
  },
  {
   "cell_type": "markdown",
   "metadata": {},
   "source": [
    "## Loading Data"
   ]
  },
  {
   "cell_type": "code",
   "execution_count": 1,
   "metadata": {},
   "outputs": [],
   "source": [
    "import os\n",
    "import xarray as xr\n",
    "import numpy as np\n",
    "import matplotlib.pyplot as plt\n",
    "import sys\n",
    "from tqdm.notebook import tqdm\n",
    "\n"
   ]
  },
  {
   "cell_type": "code",
   "execution_count": null,
   "metadata": {},
   "outputs": [],
   "source": [
    "raw_data_dir = '/Users/cfn18/Desktop/Double-Well-SR/Test-Transition-Data/'\n",
    "\n",
    "def nc_test(file_name):\n",
    "    return file_name[-3:] == '.nc'\n",
    "\n",
    "def nc_file_list(d):\n",
    "    nc_list = []\n",
    "    for file in os.listdir(d):\n",
    "        if nc_test(file):\n",
    "            nc_list.append(d + file)\n",
    "    return nc_list\n",
    "\n",
    "integration_files = nc_file_list(raw_data_dir)"
   ]
  },
  {
   "cell_type": "code",
   "execution_count": null,
   "metadata": {
    "scrolled": false
   },
   "outputs": [],
   "source": [
    "ds_file = integration_files[0]\n",
    "ds = xr.open_mfdataset(ds_file)"
   ]
  },
  {
   "cell_type": "markdown",
   "metadata": {},
   "source": [
    "## Step 1: Tag points in timeseries near fixed points"
   ]
  },
  {
   "cell_type": "code",
   "execution_count": 4,
   "metadata": {},
   "outputs": [],
   "source": [
    "def _tag_cold_points(ts, ball_size=0.1):\n",
    "    return -(np.sqrt((ts.x + 1 )**2 + ts.y **2) < ball_size).values.astype(int)\n",
    "\n",
    "def _tag_hot_points(ts, ball_size=0.1):\n",
    "    return (np.sqrt((ts.x - 1 )**2 + ts.y **2) < ball_size).values.astype(int)\n",
    "\n",
    "def symbolic_ts(ts, ball_size=0.1):\n",
    "    \"\"\"\n",
    "    Identifies all points in a timeseries with -1, 0 or 1.\n",
    "    -1 means you're close to (-1, 0)\n",
    "    1 means you're close to (1, 0)\n",
    "    0 is rest of points.\n",
    "    \"\"\"\n",
    "    cold_points = _tag_cold_points(ts, ball_size)\n",
    "    hot_points = _tag_hot_points(ts, ball_size)\n",
    "    return cold_points + hot_points"
   ]
  },
  {
   "cell_type": "code",
   "execution_count": 5,
   "metadata": {},
   "outputs": [],
   "source": [
    "# Functions take a single timeseries and return transition from hot to cold or vice versa\n",
    "\n",
    "def cold_to_hot_transitions(ts, ball_size=0.1):\n",
    "    c2h = [] # List of transitions\n",
    "    symbolic_path = symbolic_ts(ts, ball_size)\n",
    "    \n",
    "    # Identifying sequences of the form (-1, 0, ..., 0, 1)\n",
    "    for i in np.where(symbolic_path == -1)[0]:\n",
    "        next_hot_point = np.argmax(symbolic_path[i:])\n",
    "        \n",
    "        # Is it only 0's between the -1 and 1?\n",
    "        if (np.sum(symbolic_path[slice(i, i + next_hot_point + 1)]) == 0): \n",
    "            transition = ts.isel(time=slice(i, i + next_hot_point + 1))\n",
    "            c2h.append(transition)\n",
    "    return c2h\n",
    "\n",
    "def hot_to_cold_transitions(ts, ball_size=0.1):\n",
    "    h2c = [] # List of transitions\n",
    "    symbolic_path = symbolic_ts(ts, ball_size)\n",
    "    \n",
    "    # Identifying sequences of the form (1, 0, ..., 0, -1)\n",
    "    for i in np.where(symbolic_path == 1)[0]:\n",
    "        next_cold_point = np.argmin(symbolic_path[i:])\n",
    "        \n",
    "        # Is it only 0's between the 1 and -1?\n",
    "        if (np.sum(symbolic_path[slice(i, i + next_cold_point + 1)]) == 0): \n",
    "            transition = ts.isel(time=slice(i, i + next_cold_point + 1))\n",
    "            h2c.append(transition)\n",
    "    return h2c"
   ]
  },
  {
   "cell_type": "code",
   "execution_count": null,
   "metadata": {},
   "outputs": [],
   "source": [
    "# TO DO: \n",
    "# Script opening of all datasets\n",
    "# Save all transitions in appropriate places\n",
    "# Arrange this to run in a cluster\n",
    "\n",
    "ball_size=0.1\n",
    "\n",
    "c2h = []\n",
    "h2c = []\n",
    "for r in ds.realisation:\n",
    "    ts = ds.sel(realisation=r).drop('realisation')\n",
    "    c2h += cold_to_hot_transitions(ts, ball_size)\n",
    "    h2c += hot_to_cold_transitions(ts, ball_size)"
   ]
  },
  {
   "cell_type": "code",
   "execution_count": null,
   "metadata": {
    "scrolled": false
   },
   "outputs": [],
   "source": [
    "times = []\n",
    "for ts in c2h:\n",
    "    time = ts.time.max() - ts.time.min()\n",
    "    times.append(time.item())"
   ]
  },
  {
   "cell_type": "code",
   "execution_count": null,
   "metadata": {},
   "outputs": [],
   "source": [
    "plt.hist(np.log(times), density=True, bins=100)"
   ]
  },
  {
   "cell_type": "code",
   "execution_count": 8,
   "metadata": {},
   "outputs": [],
   "source": [
    "# Opening datasets\n",
    "\n",
    "\n",
    "alphas = [0.]\n",
    "epsilons = [10., 1.]\n",
    "ae_pairs = alpha_eps_pairs(alphas, epsilons)\n",
    "\n",
    "# Use array jobs to decide input\n",
    "# alpha, eps = alpha_eps_pairs[int(sys.argv[1]) - 1]\n"
   ]
  },
  {
   "cell_type": "code",
   "execution_count": 7,
   "metadata": {},
   "outputs": [],
   "source": [
    "# Opening dataset\n",
    "\n",
    "def integrations_parent_dir(cluster=False):\n",
    "    if cluster:\n",
    "        return '/rds/general/user/cfn18/ephemeral/Rotated-2D-Well-Stochastic-Model/'\n",
    "    else: # on mac\n",
    "        return '/Users/cfn18/Desktop/Double-Well-SR/Test-Transition-Data/'\n",
    "\n",
    "def alpha_eps_pairs(alphas, epsilons):\n",
    "    alpha_eps_pairs = []\n",
    "    for alpha in alphas:\n",
    "        for eps in epsilons:\n",
    "            alpha_eps_pairs.append((alpha, eps))\n",
    "    return alpha_eps_pairs\n",
    "\n",
    "def integration_directories(alpha, eps, cluster=False):\n",
    "    p_dir = integrations_parent_dir(cluster)\n",
    "    alpha_sub_dir = f'alpha_{alpha}/'.replace('.', '_')\n",
    "    eps_sub_dir = f'eps_{eps}/'.replace('.', '_')\n",
    "    transition_directory = p_dir + alpha_sub_dir + eps_sub_dir\n",
    "    return [transition_directory + x for x in ['cold-ensemble/', 'hot-ensemble/']]\n",
    "    "
   ]
  },
  {
   "cell_type": "code",
   "execution_count": 9,
   "metadata": {},
   "outputs": [],
   "source": [
    "def list_directory(d):\n",
    "    files = []\n",
    "    for f in os.listdir(d):\n",
    "        files.append(d + f)\n",
    "    return files\n",
    "\n",
    "def xr_files(alpha, eps, cluster=False):\n",
    "    files = []\n",
    "    for d in integration_directories(alpha, eps, cluster):\n",
    "        files += list_directory(d)\n",
    "    return files\n",
    "    "
   ]
  },
  {
   "cell_type": "code",
   "execution_count": null,
   "metadata": {},
   "outputs": [],
   "source": [
    "a, e = ae_pairs[0]\n",
    "transition_files = xr_files(a, e)\n",
    "\n",
    "for file in transition_files:\n",
    "    ds = xr.open_dataset(file)\n",
    "    print(ds)\n",
    "    ds.close()"
   ]
  },
  {
   "cell_type": "code",
   "execution_count": null,
   "metadata": {},
   "outputs": [],
   "source": [
    "# Saving transitions"
   ]
  },
  {
   "cell_type": "code",
   "execution_count": 10,
   "metadata": {},
   "outputs": [],
   "source": [
    "def transition_parent_dir(cluster=False):\n",
    "    if cluster:\n",
    "        return # WHERE WILL SAVE TRANSITION ON CLUSTER\n",
    "    else:\n",
    "        return '/Users/cfn18/Desktop/Double-Well-SR/Transition-Info/'\n",
    "    \n",
    "def transition_dir(alpha, eps, cluster=False):\n",
    "    p_dir = transition_parent_dir(cluster)\n",
    "    alpha_sub_dir = f'alpha_{alpha}/'.replace('.', '_')\n",
    "    eps_sub_dir = f'eps_{eps}/'.replace('.', '_')\n",
    "    transition_directory = p_dir + alpha_sub_dir + eps_sub_dir\n",
    "    \n",
    "    directories = [transition_directory + x for x in ['cold-to-hot/', 'hot-to-cold/']]\n",
    "    for d in directories:\n",
    "        if not os.path.exists(d):\n",
    "            os.makedirs(d)\n",
    "            print(f'Made directory at {d}')\n",
    "    return directories\n",
    "    "
   ]
  },
  {
   "cell_type": "code",
   "execution_count": 21,
   "metadata": {},
   "outputs": [
    {
     "data": {
      "application/vnd.jupyter.widget-view+json": {
       "model_id": "7a3815ed6134412eaebad439d3f2720d",
       "version_major": 2,
       "version_minor": 0
      },
      "text/plain": [
       "  0%|          | 0/2 [00:00<?, ?it/s]"
      ]
     },
     "metadata": {},
     "output_type": "display_data"
    },
    {
     "data": {
      "application/vnd.jupyter.widget-view+json": {
       "model_id": "f28ae0d9a5f947b3a07054bb441de12c",
       "version_major": 2,
       "version_minor": 0
      },
      "text/plain": [
       "  0%|          | 0/500 [00:00<?, ?it/s]"
      ]
     },
     "metadata": {},
     "output_type": "display_data"
    },
    {
     "data": {
      "application/vnd.jupyter.widget-view+json": {
       "model_id": "e0610ac7e4904e619dfd37d779878c6f",
       "version_major": 2,
       "version_minor": 0
      },
      "text/plain": [
       "  0%|          | 0/500 [00:00<?, ?it/s]"
      ]
     },
     "metadata": {},
     "output_type": "display_data"
    },
    {
     "name": "stdout",
     "output_type": "stream",
     "text": [
      "Saved list at /Users/cfn18/Desktop/Double-Well-SR/Transition-Info/alpha_0_0/eps_10_0/cold-to-hot/\n",
      "Saved list at /Users/cfn18/Desktop/Double-Well-SR/Transition-Info/alpha_0_0/eps_10_0/hot-to-cold/\n"
     ]
    },
    {
     "data": {
      "application/vnd.jupyter.widget-view+json": {
       "model_id": "7528ff3880144003b6667c934dc0c0c4",
       "version_major": 2,
       "version_minor": 0
      },
      "text/plain": [
       "  0%|          | 0/500 [00:00<?, ?it/s]"
      ]
     },
     "metadata": {},
     "output_type": "display_data"
    },
    {
     "data": {
      "application/vnd.jupyter.widget-view+json": {
       "model_id": "be413ba39f1645ec8717a64733d7d00b",
       "version_major": 2,
       "version_minor": 0
      },
      "text/plain": [
       "  0%|          | 0/500 [00:00<?, ?it/s]"
      ]
     },
     "metadata": {},
     "output_type": "display_data"
    },
    {
     "name": "stdout",
     "output_type": "stream",
     "text": [
      "Saved list at /Users/cfn18/Desktop/Double-Well-SR/Transition-Info/alpha_0_0/eps_1_0/cold-to-hot/\n",
      "Saved list at /Users/cfn18/Desktop/Double-Well-SR/Transition-Info/alpha_0_0/eps_1_0/hot-to-cold/\n"
     ]
    }
   ],
   "source": [
    "ball_size = 0.1\n",
    "\n",
    "for a, e in tqdm(ae_pairs):    \n",
    "    \n",
    "    # Initialise list for transitions for fixed a, e pair\n",
    "    c2h_transitions = []\n",
    "    h2c_transtions = []\n",
    "    \n",
    "    # Loop through hot/cold ensemble files\n",
    "    integration_files = xr_files(a, e)\n",
    "    for file in integration_files:\n",
    "        ds = xr.open_dataset(file)\n",
    "        c2h, h2c = get_transitions(ds, ball_size)\n",
    "        c2h_transitions += c2h\n",
    "        h2c_transtions += h2c\n",
    "    \n",
    "    # Save Transitions\n",
    "    c2h_save_dir, h2c_save_dir = transition_dir(a, e)\n",
    "    save_list(c2h_transitions[:10], c2h_save_dir)\n",
    "    save_list(c2h_transitions[:10], h2c_save_dir)\n",
    "        "
   ]
  },
  {
   "cell_type": "code",
   "execution_count": 14,
   "metadata": {},
   "outputs": [],
   "source": [
    "def get_transitions(ds, ball_size=0.1):\n",
    "    c2h = []\n",
    "    h2c = []\n",
    "    for r in tqdm(ds.realisation):\n",
    "        ts = ds.sel(realisation=r).drop('realisation')\n",
    "        c2h += cold_to_hot_transitions(ts, ball_size)\n",
    "        h2c += hot_to_cold_transitions(ts, ball_size)\n",
    "    return c2h, h2c\n",
    "\n",
    "def save_list(ds_list, save_dir):\n",
    "    for i, ds in enumerate(ds_list):\n",
    "        save_name = f'{i+1}.nc'\n",
    "        ds.to_netcdf(save_dir + save_name)\n",
    "        ds.close()\n",
    "    print(f'Saved list at {save_dir}')"
   ]
  },
  {
   "cell_type": "code",
   "execution_count": null,
   "metadata": {},
   "outputs": [],
   "source": []
  }
 ],
 "metadata": {
  "kernelspec": {
   "display_name": "iris_course",
   "language": "python",
   "name": "iris_course"
  },
  "language_info": {
   "codemirror_mode": {
    "name": "ipython",
    "version": 3
   },
   "file_extension": ".py",
   "mimetype": "text/x-python",
   "name": "python",
   "nbconvert_exporter": "python",
   "pygments_lexer": "ipython3",
   "version": "3.8.10"
  }
 },
 "nbformat": 4,
 "nbformat_minor": 2
}
