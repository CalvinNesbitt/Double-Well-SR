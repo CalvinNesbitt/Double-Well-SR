{
 "cells": [
  {
   "cell_type": "markdown",
   "metadata": {},
   "source": [
    "# Effect of $\\alpha$\n",
    "\n",
    "We look at the effect of the warping parmaeter $\\alpha$ on the stochastic integration statistics."
   ]
  },
  {
   "cell_type": "code",
   "execution_count": 4,
   "metadata": {},
   "outputs": [],
   "source": [
    "# Standard Package imports\n",
    "import numpy as np\n",
    "import numpy.linalg as la\n",
    "import numpy.random as rm\n",
    "import xarray as xr\n",
    "import matplotlib.pyplot as plt\n",
    "import os"
   ]
  },
  {
   "cell_type": "code",
   "execution_count": 2,
   "metadata": {},
   "outputs": [],
   "source": [
    "alphas = [0., 0.5, 1., 2.] # range we look at"
   ]
  },
  {
   "cell_type": "markdown",
   "metadata": {},
   "source": [
    "## Integrating Model for different alpha values\n",
    "\n",
    "Integrations takes some time, so now we load data."
   ]
  },
  {
   "cell_type": "code",
   "execution_count": null,
   "metadata": {},
   "outputs": [],
   "source": [
    "# # Varying Alpha\n",
    "\n",
    "# for alpha in alphas:\n",
    "#     print(f'Working on alpha = {alpha}') \n",
    "    \n",
    "#     # Integration \n",
    "\n",
    "#     cold_ensemble = []\n",
    "#     hot_ensemble = []\n",
    "\n",
    "#     for i in tqdm(range(10000)):\n",
    "#         cold_ensemble.append(euler_maruyama(cold_point, time, p))\n",
    "\n",
    "#     for i in tqdm(range(10000)):\n",
    "#         hot_ensemble.append(euler_maruyama(hot_point, time, p))\n",
    "        \n",
    "#     # Putting Results in xarray dataset\n",
    "    \n",
    "#     dims = ['x', 'y']\n",
    "#     coords = [time]\n",
    "#     attrs = {'alpha': alpha, 'eps': eps}\n",
    "\n",
    "#     # Cold Ensemble\n",
    "#     data = np.asarray(cold_ensemble)\n",
    "#     x_data = xr.DataArray(data[:, :, 0], coords = {'realisation':np.arange(len(cold_ensemble)) + 1,\n",
    "#                                         'time': time},\n",
    "#                         dims = ['realisation','time'], attrs=attrs, name='x')\n",
    "#     y_data = xr.DataArray(data[:, :, 1], coords = {'realisation':np.arange(len(cold_ensemble)) + 1,\n",
    "#                                         'time': time},\n",
    "#                         dims = ['realisation','time'], attrs=attrs, name='y')\n",
    "#     cold_ensemble_ds = xr.merge([x_data, y_data])\n",
    "#     cold_ensemble_ds.attrs = attrs\n",
    "\n",
    "#     # Hot Ensemble\n",
    "\n",
    "#     data = np.asarray(hot_ensemble)\n",
    "#     x_data = xr.DataArray(data[:, :, 0], coords = {'realisation':np.arange(len(hot_ensemble)) + 1,\n",
    "#                                         'time': time},\n",
    "#                         dims = ['realisation','time'], attrs=attrs, name='x')\n",
    "#     y_data = xr.DataArray(data[:, :, 1], coords = {'realisation':np.arange(len(hot_ensemble)) + 1,\n",
    "#                                         'time': time},\n",
    "#                         dims = ['realisation','time'], attrs=attrs, name='y')\n",
    "#     hot_ensemble_ds = xr.merge([x_data, y_data])\n",
    "#     hot_ensemble_ds.attrs = attrs\n",
    "    \n",
    "#     # Saving Results\n",
    "#     cold_ensemble_ds.to_netcdf(f'Data/alpha{alpha}-cold-ensemble'.replace('.', '_') + '.nc')\n",
    "#     hot_ensemble_ds.to_netcdf(f'Data/alpha{alpha}-hot-ensemble'.replace('.', '_') + '.nc')"
   ]
  },
  {
   "cell_type": "markdown",
   "metadata": {},
   "source": [
    "## Loading Data"
   ]
  },
  {
   "cell_type": "code",
   "execution_count": 17,
   "metadata": {},
   "outputs": [],
   "source": [
    "hot_runs = []\n",
    "cold_runs = []\n",
    "for file in os.listdir('Data'):\n",
    "    if ('alpha') in file:\n",
    "        if 'hot' in file:\n",
    "            ds = xr.open_dataset('Data/' + file)\n",
    "            hot_runs.append(ds)\n",
    "        if 'cold' in file:\n",
    "            ds = xr.open_dataset('Data/' + file)\n",
    "            cold_runs.append(ds)"
   ]
  },
  {
   "cell_type": "code",
   "execution_count": 68,
   "metadata": {},
   "outputs": [
    {
     "data": {
      "text/html": [
       "<div>\n",
       "<style scoped>\n",
       "    .dataframe tbody tr th:only-of-type {\n",
       "        vertical-align: middle;\n",
       "    }\n",
       "\n",
       "    .dataframe tbody tr th {\n",
       "        vertical-align: top;\n",
       "    }\n",
       "\n",
       "    .dataframe thead th {\n",
       "        text-align: right;\n",
       "    }\n",
       "</style>\n",
       "<table border=\"1\" class=\"dataframe\">\n",
       "  <thead>\n",
       "    <tr style=\"text-align: right;\">\n",
       "      <th></th>\n",
       "      <th></th>\n",
       "      <th>x</th>\n",
       "      <th>y</th>\n",
       "    </tr>\n",
       "    <tr>\n",
       "      <th>realisation</th>\n",
       "      <th>time</th>\n",
       "      <th></th>\n",
       "      <th></th>\n",
       "    </tr>\n",
       "  </thead>\n",
       "  <tbody>\n",
       "    <tr>\n",
       "      <th rowspan=\"5\" valign=\"top\">1</th>\n",
       "      <th>0.000000</th>\n",
       "      <td>1.000000</td>\n",
       "      <td>0.000000</td>\n",
       "    </tr>\n",
       "    <tr>\n",
       "      <th>0.100503</th>\n",
       "      <td>0.954077</td>\n",
       "      <td>-0.072198</td>\n",
       "    </tr>\n",
       "    <tr>\n",
       "      <th>0.201005</th>\n",
       "      <td>0.952810</td>\n",
       "      <td>-0.087882</td>\n",
       "    </tr>\n",
       "    <tr>\n",
       "      <th>0.301508</th>\n",
       "      <td>1.099962</td>\n",
       "      <td>0.031850</td>\n",
       "    </tr>\n",
       "    <tr>\n",
       "      <th>0.402010</th>\n",
       "      <td>1.131672</td>\n",
       "      <td>-0.016060</td>\n",
       "    </tr>\n",
       "    <tr>\n",
       "      <th>...</th>\n",
       "      <th>...</th>\n",
       "      <td>...</td>\n",
       "      <td>...</td>\n",
       "    </tr>\n",
       "    <tr>\n",
       "      <th rowspan=\"5\" valign=\"top\">10000</th>\n",
       "      <th>19.597990</th>\n",
       "      <td>0.845924</td>\n",
       "      <td>-0.048887</td>\n",
       "    </tr>\n",
       "    <tr>\n",
       "      <th>19.698492</th>\n",
       "      <td>0.601192</td>\n",
       "      <td>-0.031097</td>\n",
       "    </tr>\n",
       "    <tr>\n",
       "      <th>19.798995</th>\n",
       "      <td>0.548771</td>\n",
       "      <td>-0.034219</td>\n",
       "    </tr>\n",
       "    <tr>\n",
       "      <th>19.899497</th>\n",
       "      <td>0.643989</td>\n",
       "      <td>-0.130657</td>\n",
       "    </tr>\n",
       "    <tr>\n",
       "      <th>20.000000</th>\n",
       "      <td>0.765283</td>\n",
       "      <td>0.020939</td>\n",
       "    </tr>\n",
       "  </tbody>\n",
       "</table>\n",
       "<p>2000000 rows × 2 columns</p>\n",
       "</div>"
      ],
      "text/plain": [
       "                              x         y\n",
       "realisation time                         \n",
       "1           0.000000   1.000000  0.000000\n",
       "            0.100503   0.954077 -0.072198\n",
       "            0.201005   0.952810 -0.087882\n",
       "            0.301508   1.099962  0.031850\n",
       "            0.402010   1.131672 -0.016060\n",
       "...                         ...       ...\n",
       "10000       19.597990  0.845924 -0.048887\n",
       "            19.698492  0.601192 -0.031097\n",
       "            19.798995  0.548771 -0.034219\n",
       "            19.899497  0.643989 -0.130657\n",
       "            20.000000  0.765283  0.020939\n",
       "\n",
       "[2000000 rows x 2 columns]"
      ]
     },
     "execution_count": 68,
     "metadata": {},
     "output_type": "execute_result"
    }
   ],
   "source": [
    "ds.to_dataframe()"
   ]
  },
  {
   "cell_type": "code",
   "execution_count": 49,
   "metadata": {},
   "outputs": [
    {
     "name": "stdout",
     "output_type": "stream",
     "text": [
      "0.0\n"
     ]
    },
    {
     "data": {
      "text/plain": [
       "{'x': {'count': 1975381.0,\n",
       "  'mean': 0.9501560571411845,\n",
       "  'std': 0.18983324759265868,\n",
       "  'min': 1.6915269123660148e-05,\n",
       "  '25%': 0.8414854601460984,\n",
       "  '50%': 0.9680500351109163,\n",
       "  '75%': 1.0792539881047194,\n",
       "  'max': 1.6543433888246675}}"
      ]
     },
     "execution_count": 49,
     "metadata": {},
     "output_type": "execute_result"
    }
   ],
   "source": [
    "ds = hot_runs[3]\n",
    "print(ds.alpha)\n",
    "ds.where(ds.x>0).x.to_dataframe().describe().to_dict()"
   ]
  },
  {
   "cell_type": "code",
   "execution_count": null,
   "metadata": {},
   "outputs": [],
   "source": []
  }
 ],
 "metadata": {
  "kernelspec": {
   "display_name": "Python3 (personal)",
   "language": "python",
   "name": "python3_personal"
  },
  "language_info": {
   "codemirror_mode": {
    "name": "ipython",
    "version": 3
   },
   "file_extension": ".py",
   "mimetype": "text/x-python",
   "name": "python",
   "nbconvert_exporter": "python",
   "pygments_lexer": "ipython3",
   "version": "3.7.7"
  }
 },
 "nbformat": 4,
 "nbformat_minor": 2
}
