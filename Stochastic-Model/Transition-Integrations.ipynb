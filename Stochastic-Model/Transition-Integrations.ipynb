{
 "cells": [
  {
   "cell_type": "markdown",
   "metadata": {},
   "source": [
    "# Transition Integration\n",
    "\n",
    "In this notebook we integrate 2d well with a high noise in order to observe transitions"
   ]
  },
  {
   "cell_type": "code",
   "execution_count": 1,
   "metadata": {},
   "outputs": [],
   "source": [
    "# Standard Package imports\n",
    "import numpy as np\n",
    "import numpy.linalg as la\n",
    "import numpy.random as rm\n",
    "import xarray as xr\n",
    "import matplotlib.pyplot as plt\n",
    "from tqdm.notebook import tqdm\n",
    "# from fancyWell import *"
   ]
  },
  {
   "cell_type": "markdown",
   "metadata": {},
   "source": [
    "## Integration Setup"
   ]
  },
  {
   "cell_type": "code",
   "execution_count": 7,
   "metadata": {},
   "outputs": [],
   "source": [
    "def grad_V(x):\n",
    "    return np.array([x[0]*(x[0]**2 -1), 2 * x[1]])\n",
    "\n",
    "R = np.array([[0, -1], [1, 0]]) # 90 degree rotation matrix"
   ]
  },
  {
   "cell_type": "code",
   "execution_count": 21,
   "metadata": {},
   "outputs": [],
   "source": [
    "# Parameter Choise\n",
    "\n",
    "eps = 0.1 \n",
    "alphas = [0., 0.25, 0.5, 1.]\n",
    "dt = 0.01\n",
    "tf = 50\n",
    "time = np.arange(0, tf, dt)"
   ]
  },
  {
   "cell_type": "code",
   "execution_count": 22,
   "metadata": {},
   "outputs": [],
   "source": [
    "def drift(x, p):\n",
    "    alpha, eps = p\n",
    "    return - (np.eye(2) + alpha * R) @ grad_V(x)\n",
    "\n",
    "def euler_maruyama(x0, t, p, timer=False):\n",
    "    alpha, eps = p\n",
    "    N = len(t)\n",
    "    x = np.zeros(np.append(N, x0.shape))\n",
    "    x[0] = x0\n",
    "    for i in tqdm(range(N-1), disable=not timer):\n",
    "        dt = t[i+1]-t[i]\n",
    "        dWt = rm.normal(0, np.sqrt(dt), 2)\n",
    "        x[i+1] = x[i] + drift(x[i], p) * dt + np.sqrt(eps) * dWt\n",
    "    return x"
   ]
  },
  {
   "cell_type": "code",
   "execution_count": 14,
   "metadata": {},
   "outputs": [],
   "source": [
    "cold_point = np.array([-1, 0])\n",
    "hot_point = np.array([1, 0])\n",
    "saddle = np.array([0, 0])"
   ]
  },
  {
   "cell_type": "markdown",
   "metadata": {},
   "source": [
    "## Running Ensemble of Stochastic Integrations"
   ]
  },
  {
   "cell_type": "code",
   "execution_count": 17,
   "metadata": {},
   "outputs": [],
   "source": [
    "from joblib import Parallel, delayed\n",
    "import multiprocessing"
   ]
  },
  {
   "cell_type": "code",
   "execution_count": 20,
   "metadata": {},
   "outputs": [],
   "source": [
    "num_cores = multiprocessing.cpu_count()"
   ]
  },
  {
   "cell_type": "code",
   "execution_count": null,
   "metadata": {},
   "outputs": [],
   "source": [
    "def cold_ensemble_run(p):\n",
    "    cold_ensemble = []\n",
    "    alpha, eps = p\n",
    "    cold_ensemble.append(euler_maruyama(cold_point, time, [alpha, eps]))\n",
    "\n",
    "    \n",
    "    "
   ]
  },
  {
   "cell_type": "code",
   "execution_count": null,
   "metadata": {},
   "outputs": [],
   "source": [
    "Parallel(n_jobs=num_cores)(delayed(manifold_angle)(CLV, data.k_d) for CLV in tqdm(inputs))\n"
   ]
  },
  {
   "cell_type": "code",
   "execution_count": 16,
   "metadata": {},
   "outputs": [
    {
     "data": {
      "application/vnd.jupyter.widget-view+json": {
       "model_id": "4cf951a36e8d4cf2a154dbc84eb55674",
       "version_major": 2,
       "version_minor": 0
      },
      "text/plain": [
       "HBox(children=(FloatProgress(value=0.0, max=10000.0), HTML(value='')))"
      ]
     },
     "metadata": {},
     "output_type": "display_data"
    },
    {
     "ename": "KeyboardInterrupt",
     "evalue": "",
     "output_type": "error",
     "traceback": [
      "\u001b[0;31m---------------------------------------------------------------------------\u001b[0m",
      "\u001b[0;31mKeyboardInterrupt\u001b[0m                         Traceback (most recent call last)",
      "\u001b[0;32m<ipython-input-16-51334eeb220c>\u001b[0m in \u001b[0;36m<module>\u001b[0;34m\u001b[0m\n\u001b[1;32m      6\u001b[0m \u001b[0;34m\u001b[0m\u001b[0m\n\u001b[1;32m      7\u001b[0m \u001b[0;32mfor\u001b[0m \u001b[0mi\u001b[0m \u001b[0;32min\u001b[0m \u001b[0mtqdm\u001b[0m\u001b[0;34m(\u001b[0m\u001b[0mrange\u001b[0m\u001b[0;34m(\u001b[0m\u001b[0mensemble_size\u001b[0m\u001b[0;34m)\u001b[0m\u001b[0;34m)\u001b[0m\u001b[0;34m:\u001b[0m\u001b[0;34m\u001b[0m\u001b[0;34m\u001b[0m\u001b[0m\n\u001b[0;32m----> 8\u001b[0;31m     \u001b[0mcold_ensemble\u001b[0m\u001b[0;34m.\u001b[0m\u001b[0mappend\u001b[0m\u001b[0;34m(\u001b[0m\u001b[0meuler_maruyama\u001b[0m\u001b[0;34m(\u001b[0m\u001b[0mcold_point\u001b[0m\u001b[0;34m,\u001b[0m \u001b[0mtime\u001b[0m\u001b[0;34m,\u001b[0m \u001b[0mp\u001b[0m\u001b[0;34m)\u001b[0m\u001b[0;34m)\u001b[0m\u001b[0;34m\u001b[0m\u001b[0;34m\u001b[0m\u001b[0m\n\u001b[0m\u001b[1;32m      9\u001b[0m \u001b[0;34m\u001b[0m\u001b[0m\n\u001b[1;32m     10\u001b[0m \u001b[0;32mfor\u001b[0m \u001b[0mi\u001b[0m \u001b[0;32min\u001b[0m \u001b[0mtqdm\u001b[0m\u001b[0;34m(\u001b[0m\u001b[0mrange\u001b[0m\u001b[0;34m(\u001b[0m\u001b[0mensemble_size\u001b[0m\u001b[0;34m)\u001b[0m\u001b[0;34m)\u001b[0m\u001b[0;34m:\u001b[0m\u001b[0;34m\u001b[0m\u001b[0;34m\u001b[0m\u001b[0m\n",
      "\u001b[0;32m<ipython-input-13-5d3623b6156f>\u001b[0m in \u001b[0;36meuler_maruyama\u001b[0;34m(x0, t, p, timer)\u001b[0m\n\u001b[1;32m     11\u001b[0m         \u001b[0mdt\u001b[0m \u001b[0;34m=\u001b[0m \u001b[0mt\u001b[0m\u001b[0;34m[\u001b[0m\u001b[0mi\u001b[0m\u001b[0;34m+\u001b[0m\u001b[0;36m1\u001b[0m\u001b[0;34m]\u001b[0m\u001b[0;34m-\u001b[0m\u001b[0mt\u001b[0m\u001b[0;34m[\u001b[0m\u001b[0mi\u001b[0m\u001b[0;34m]\u001b[0m\u001b[0;34m\u001b[0m\u001b[0;34m\u001b[0m\u001b[0m\n\u001b[1;32m     12\u001b[0m         \u001b[0mdWt\u001b[0m \u001b[0;34m=\u001b[0m \u001b[0mrm\u001b[0m\u001b[0;34m.\u001b[0m\u001b[0mnormal\u001b[0m\u001b[0;34m(\u001b[0m\u001b[0;36m0\u001b[0m\u001b[0;34m,\u001b[0m \u001b[0mnp\u001b[0m\u001b[0;34m.\u001b[0m\u001b[0msqrt\u001b[0m\u001b[0;34m(\u001b[0m\u001b[0mdt\u001b[0m\u001b[0;34m)\u001b[0m\u001b[0;34m,\u001b[0m \u001b[0;36m2\u001b[0m\u001b[0;34m)\u001b[0m\u001b[0;34m\u001b[0m\u001b[0;34m\u001b[0m\u001b[0m\n\u001b[0;32m---> 13\u001b[0;31m         \u001b[0mx\u001b[0m\u001b[0;34m[\u001b[0m\u001b[0mi\u001b[0m\u001b[0;34m+\u001b[0m\u001b[0;36m1\u001b[0m\u001b[0;34m]\u001b[0m \u001b[0;34m=\u001b[0m \u001b[0mx\u001b[0m\u001b[0;34m[\u001b[0m\u001b[0mi\u001b[0m\u001b[0;34m]\u001b[0m \u001b[0;34m+\u001b[0m \u001b[0mdrift\u001b[0m\u001b[0;34m(\u001b[0m\u001b[0mx\u001b[0m\u001b[0;34m[\u001b[0m\u001b[0mi\u001b[0m\u001b[0;34m]\u001b[0m\u001b[0;34m,\u001b[0m \u001b[0mp\u001b[0m\u001b[0;34m)\u001b[0m \u001b[0;34m*\u001b[0m \u001b[0mdt\u001b[0m \u001b[0;34m+\u001b[0m \u001b[0mnp\u001b[0m\u001b[0;34m.\u001b[0m\u001b[0msqrt\u001b[0m\u001b[0;34m(\u001b[0m\u001b[0meps\u001b[0m\u001b[0;34m)\u001b[0m \u001b[0;34m*\u001b[0m \u001b[0mdWt\u001b[0m\u001b[0;34m\u001b[0m\u001b[0;34m\u001b[0m\u001b[0m\n\u001b[0m\u001b[1;32m     14\u001b[0m     \u001b[0;32mreturn\u001b[0m \u001b[0mx\u001b[0m\u001b[0;34m\u001b[0m\u001b[0;34m\u001b[0m\u001b[0m\n",
      "\u001b[0;31mKeyboardInterrupt\u001b[0m: "
     ]
    }
   ],
   "source": [
    "# Integration \n",
    "\n",
    "cold_ensemble = []\n",
    "hot_ensemble = []\n",
    "ensemble_size = int(1.e4)\n",
    "\n",
    "for i in tqdm(range(ensemble_size)):\n",
    "    cold_ensemble.append(euler_maruyama(cold_point, time, [alpha, eps]))\n",
    "    \n",
    "for i in tqdm(range(ensemble_size)):\n",
    "    hot_ensemble.append(euler_maruyama(hot_point, time, p))"
   ]
  },
  {
   "cell_type": "code",
   "execution_count": null,
   "metadata": {},
   "outputs": [],
   "source": [
    "# Putting Results in xarray dataset and Saving\n",
    "\n",
    "dims = ['x', 'y']\n",
    "coords = [time]\n",
    "attrs = {'alpha': alpha, 'eps': eps}\n",
    "\n",
    "# Cold Ensemble\n",
    "data = np.asarray(cold_ensemble)\n",
    "x_data = xr.DataArray(data[:, :, 0], coords = {'realisation':np.arange(len(cold_ensemble)) + 1,\n",
    "                                    'time': time},\n",
    "                    dims = ['realisation','time'], attrs=attrs, name='x')\n",
    "y_data = xr.DataArray(data[:, :, 1], coords = {'realisation':np.arange(len(cold_ensemble)) + 1,\n",
    "                                    'time': time},\n",
    "                    dims = ['realisation','time'], attrs=attrs, name='y')\n",
    "cold_ensemble_ds = xr.merge([x_data, y_data])\n",
    "cold_ensemble_ds.attrs = attrs\n",
    "\n",
    "# Hot Ensemble\n",
    "\n",
    "data = np.asarray(hot_ensemble)\n",
    "x_data = xr.DataArray(data[:, :, 0], coords = {'realisation':np.arange(len(hot_ensemble)) + 1,\n",
    "                                    'time': time},\n",
    "                    dims = ['realisation','time'], attrs=attrs, name='x')\n",
    "y_data = xr.DataArray(data[:, :, 1], coords = {'realisation':np.arange(len(hot_ensemble)) + 1,\n",
    "                                    'time': time},\n",
    "                    dims = ['realisation','time'], attrs=attrs, name='y')\n",
    "hot_ensemble_ds = xr.merge([x_data, y_data])\n",
    "hot_ensemble_ds.attrs = attrs"
   ]
  }
 ],
 "metadata": {
  "kernelspec": {
   "display_name": "Python3 (personal)",
   "language": "python",
   "name": "python3_personal"
  },
  "language_info": {
   "codemirror_mode": {
    "name": "ipython",
    "version": 3
   },
   "file_extension": ".py",
   "mimetype": "text/x-python",
   "name": "python",
   "nbconvert_exporter": "python",
   "pygments_lexer": "ipython3",
   "version": "3.7.7"
  }
 },
 "nbformat": 4,
 "nbformat_minor": 2
}
