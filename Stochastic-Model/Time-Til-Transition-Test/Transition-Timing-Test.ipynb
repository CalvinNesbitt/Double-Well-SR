{
 "cells": [
  {
   "cell_type": "markdown",
   "metadata": {},
   "source": [
    "# How long to wait for a transition in the double well?\n",
    "\n",
    "In this notebook we run the stochastic double well for different noise strengths and see how long we must wait for a transition to occur.\n",
    "\n",
    "We save these in pickle dictionaries"
   ]
  },
  {
   "cell_type": "code",
   "execution_count": 13,
   "metadata": {},
   "outputs": [],
   "source": [
    "import os\n",
    "import sys\n",
    "sys.path.append('/rds/general/user/cfn18/home/Double-Well-SR/Stochastic-Model/Remote-Run/')\n",
    "from utilities import *\n",
    "import numpy as np\n",
    "import matplotlib.pyplot as plt\n",
    "import pickle\n",
    "\n",
    "def experiment(p, T):\n",
    "    \"Test if we go from hot point to cold basin within a given time\"\n",
    "    hot_ic = np.array([1, 0])\n",
    "    alpha, sigma = p\n",
    "    time = np.arange(0, T, 0.1)\n",
    "    result = euler_maruyama(hot_ic, time, p, timer=False)\n",
    "    cold_at_any_point = np.any(result[:, 0] < 0)\n",
    "    return cold_at_any_point\n",
    "\n",
    "def save_results():\n",
    "    \"Save timing results in dicitionary indexed by sigma\"\n",
    "    save_dir = f'/rds/general/user/cfn18/home/Double-Well-SR/Stochastic-Model/Time-Til-Transition-Test/Timing-Results/alpha_{alpha:.2f}/'.replace('.', '_')\n",
    "    if not os.path.exists(save_dir):\n",
    "        os.makedirs(save_dir)\n",
    "    with open(save_dir + 'results.pickle', 'wb') as handle:\n",
    "        pickle.dump(timing_results, handle, protocol=pickle.HIGHEST_PROTOCOL)\n",
    "    print(f'\\nSaved Results at {save_dir}/results.pickle\\n')\n",
    "    \n",
    "def load_results(alpha):\n",
    "    \"Load timing results for particular alpha\"\n",
    "    save_dir = f'/rds/general/user/cfn18/home/Double-Well-SR/Stochastic-Model/Time-Til-Transition-Test/Timing-Results/alpha_{alpha:.2f}/'.replace('.', '_')\n",
    "    with open(save_dir + 'results.pickle', 'rb') as handle:\n",
    "        return pickle.load(handle)\n",
    "\n",
    "def experiment_header(p):\n",
    "    print('\\n***RUNNING EXPERIMENT****')\n",
    "    print()\n",
    "    print(f'alpha = {alpha}, sigma  = {sigma}')\n",
    "    print()"
   ]
  },
  {
   "cell_type": "code",
   "execution_count": null,
   "metadata": {},
   "outputs": [],
   "source": [
    "\n",
    "# Running the experiment\n",
    "block_size = 1000 # Size of block before we test for transition\n",
    "num_of_blocks = 10000\n",
    "\n",
    "# Results dicitionary\n",
    "timing_results = {}\n",
    "alphas = [0.0, 0.25, 0.5, 1.0]\n",
    "sigmas = [0.5, 0.2, 0.1, 0.05, 0.025, 0.01]# different noise strengths we try\n",
    "alpha = alphas[int(sys.argv[1]) - 1]\n",
    "for sigma in sigmas: \n",
    "    p = [alpha, sigma]\n",
    "    experiment_header(p)\n",
    "    for i in tqdm(range(num_of_blocks)):\n",
    "        result = experiment(p, block_size)\n",
    "        if result: # Have we found a transition on this block?\n",
    "            time_til_transition = block_size * (i+1) * 0.1\n",
    "            print(f'Transition found within {time_til_transition}')\n",
    "            timing_results[sigma] = time_til_transition\n",
    "            save_results()\n",
    "            break"
   ]
  },
  {
   "cell_type": "code",
   "execution_count": 14,
   "metadata": {},
   "outputs": [
    {
     "data": {
      "text/plain": [
       "{0.5: 100.0, 0.2: 72000.0}"
      ]
     },
     "execution_count": 14,
     "metadata": {},
     "output_type": "execute_result"
    }
   ],
   "source": [
    "load_results(0.00)"
   ]
  },
  {
   "cell_type": "code",
   "execution_count": null,
   "metadata": {},
   "outputs": [],
   "source": []
  }
 ],
 "metadata": {
  "kernelspec": {
   "display_name": "Python3 (personal)",
   "language": "python",
   "name": "python3_personal"
  },
  "language_info": {
   "codemirror_mode": {
    "name": "ipython",
    "version": 3
   },
   "file_extension": ".py",
   "mimetype": "text/x-python",
   "name": "python",
   "nbconvert_exporter": "python",
   "pygments_lexer": "ipython3",
   "version": "3.7.7"
  }
 },
 "nbformat": 4,
 "nbformat_minor": 2
}
