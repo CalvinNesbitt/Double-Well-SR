{
 "cells": [
  {
   "cell_type": "markdown",
   "metadata": {},
   "source": [
    "# Rotated Well Stochastic Integrator\n",
    "\n",
    "In this notebook we write an EM scheme for simulating the noisy 2D double rotated double well"
   ]
  },
  {
   "cell_type": "code",
   "execution_count": 1,
   "metadata": {},
   "outputs": [],
   "source": [
    "# Standard Package imports\n",
    "import numpy as np\n",
    "import numpy.linalg as la\n",
    "import numpy.random as rm\n",
    "import xarray as xr\n",
    "import matplotlib.pyplot as plt\n",
    "from tqdm.notebook import tqdm\n",
    "# from fancyWell import *"
   ]
  },
  {
   "cell_type": "markdown",
   "metadata": {},
   "source": [
    "## Integration Setup"
   ]
  },
  {
   "cell_type": "code",
   "execution_count": 2,
   "metadata": {},
   "outputs": [],
   "source": [
    "def grad_V(x):\n",
    "    return np.array([x[0]*(x[0]**2 -1), 2 * x[1]])"
   ]
  },
  {
   "cell_type": "code",
   "execution_count": 3,
   "metadata": {},
   "outputs": [],
   "source": [
    "# Problem Setup\n",
    "\n",
    "R = np.array([[0, -1], [1, 0]]) # 90 degree rotation matrix\n",
    "\n",
    "alpha = 10.\n",
    "eps = 0.1\n",
    "p = [alpha, eps]\n",
    "dt = 0.01\n",
    "tf = 10\n",
    "time = np.arange(0, tf, dt)"
   ]
  },
  {
   "cell_type": "code",
   "execution_count": 4,
   "metadata": {},
   "outputs": [],
   "source": [
    "def drift(x, p):\n",
    "    alpha, eps = p\n",
    "    return - (np.eye(2) + alpha * R) @ grad_V(x)\n",
    "\n",
    "def euler_maruyama(x0, t, p, timer=False):\n",
    "    alpha, eps = p\n",
    "    N = len(t)\n",
    "    x = np.zeros(np.append(N, x0.shape))\n",
    "    x[0] = x0\n",
    "    for i in tqdm(range(N-1), disable=not timer):\n",
    "        dt = t[i+1]-t[i]\n",
    "        dWt = rm.normal(0, np.sqrt(dt), 2)\n",
    "        x[i+1] = x[i] + drift(x[i], p) * dt + np.sqrt(eps) * dWt\n",
    "    return x"
   ]
  },
  {
   "cell_type": "code",
   "execution_count": 5,
   "metadata": {},
   "outputs": [],
   "source": [
    "cold_point = np.array([-1, 0])\n",
    "hot_point = np.array([1, 0])\n",
    "saddle = np.array([0, 0])"
   ]
  },
  {
   "cell_type": "markdown",
   "metadata": {},
   "source": [
    "## Running Ensemble of Stochastic Integrations"
   ]
  },
  {
   "cell_type": "code",
   "execution_count": 6,
   "metadata": {},
   "outputs": [
    {
     "data": {
      "application/vnd.jupyter.widget-view+json": {
       "model_id": "47ed74b5dfcc49e698581995b4fda0cb",
       "version_major": 2,
       "version_minor": 0
      },
      "text/plain": [
       "HBox(children=(FloatProgress(value=0.0, max=1000.0), HTML(value='')))"
      ]
     },
     "metadata": {},
     "output_type": "display_data"
    },
    {
     "name": "stderr",
     "output_type": "stream",
     "text": [
      "/rds/general/user/cfn18/home/anaconda3/envs/personalpy3/lib/python3.7/site-packages/ipykernel_launcher.py:2: RuntimeWarning: overflow encountered in double_scalars\n",
      "  \n",
      "/rds/general/user/cfn18/home/anaconda3/envs/personalpy3/lib/python3.7/site-packages/ipykernel_launcher.py:3: RuntimeWarning: invalid value encountered in matmul\n",
      "  This is separate from the ipykernel package so we can avoid doing imports until\n",
      "/rds/general/user/cfn18/home/anaconda3/envs/personalpy3/lib/python3.7/site-packages/ipykernel_launcher.py:13: RuntimeWarning: invalid value encountered in add\n",
      "  del sys.path[0]\n"
     ]
    },
    {
     "name": "stdout",
     "output_type": "stream",
     "text": [
      "\n"
     ]
    },
    {
     "data": {
      "application/vnd.jupyter.widget-view+json": {
       "model_id": "814c06444de64f34b8533a9bdf9746f2",
       "version_major": 2,
       "version_minor": 0
      },
      "text/plain": [
       "HBox(children=(FloatProgress(value=0.0, max=1000.0), HTML(value='')))"
      ]
     },
     "metadata": {},
     "output_type": "display_data"
    },
    {
     "name": "stdout",
     "output_type": "stream",
     "text": [
      "\n"
     ]
    }
   ],
   "source": [
    "# Integration \n",
    "\n",
    "cold_ensemble = []\n",
    "hot_ensemble = []\n",
    "ensemble_size = int(1.e3)\n",
    "\n",
    "for i in tqdm(range(ensemble_size)):\n",
    "    cold_ensemble.append(euler_maruyama(cold_point, time, p))\n",
    "    \n",
    "for i in tqdm(range(ensemble_size)):\n",
    "    hot_ensemble.append(euler_maruyama(hot_point, time, p))"
   ]
  },
  {
   "cell_type": "code",
   "execution_count": 7,
   "metadata": {},
   "outputs": [],
   "source": [
    "# Putting Results in xarray dataset and Saving\n",
    "\n",
    "dims = ['x', 'y']\n",
    "coords = [time]\n",
    "attrs = {'alpha': alpha, 'eps': eps}\n",
    "\n",
    "# Cold Ensemble\n",
    "data = np.asarray(cold_ensemble)\n",
    "x_data = xr.DataArray(data[:, :, 0], coords = {'realisation':np.arange(len(cold_ensemble)) + 1,\n",
    "                                    'time': time},\n",
    "                    dims = ['realisation','time'], attrs=attrs, name='x')\n",
    "y_data = xr.DataArray(data[:, :, 1], coords = {'realisation':np.arange(len(cold_ensemble)) + 1,\n",
    "                                    'time': time},\n",
    "                    dims = ['realisation','time'], attrs=attrs, name='y')\n",
    "cold_ensemble_ds = xr.merge([x_data, y_data])\n",
    "cold_ensemble_ds.attrs = attrs\n",
    "\n",
    "# Hot Ensemble\n",
    "\n",
    "data = np.asarray(hot_ensemble)\n",
    "x_data = xr.DataArray(data[:, :, 0], coords = {'realisation':np.arange(len(hot_ensemble)) + 1,\n",
    "                                    'time': time},\n",
    "                    dims = ['realisation','time'], attrs=attrs, name='x')\n",
    "y_data = xr.DataArray(data[:, :, 1], coords = {'realisation':np.arange(len(hot_ensemble)) + 1,\n",
    "                                    'time': time},\n",
    "                    dims = ['realisation','time'], attrs=attrs, name='y')\n",
    "hot_ensemble_ds = xr.merge([x_data, y_data])\n",
    "hot_ensemble_ds.attrs = attrs"
   ]
  },
  {
   "cell_type": "code",
   "execution_count": 8,
   "metadata": {},
   "outputs": [],
   "source": [
    "cold_ensemble_ds.to_netcdf(f'Data/alpha{alpha}-cold-ensemble'.replace('.', '_') + '.nc')\n",
    "hot_ensemble_ds.to_netcdf(f'Data/alpha{alpha}-hot-ensemble'.replace('.', '_') + '.nc')"
   ]
  },
  {
   "cell_type": "code",
   "execution_count": null,
   "metadata": {},
   "outputs": [],
   "source": []
  },
  {
   "cell_type": "code",
   "execution_count": 11,
   "metadata": {},
   "outputs": [
    {
     "data": {
      "text/plain": [
       "<matplotlib.collections.QuadMesh at 0x14ab9ac8b410>"
      ]
     },
     "execution_count": 11,
     "metadata": {},
     "output_type": "execute_result"
    },
    {
     "data": {
      "image/png": "[encoded data removed]",
      "text/plain": [
       "<Figure size 432x288 with 2 Axes>"
      ]
     },
     "metadata": {
      "needs_background": "light"
     },
     "output_type": "display_data"
    }
   ],
   "source": [
    "cold_ensemble_ds.x.plot()"
   ]
  },
  {
   "cell_type": "code",
   "execution_count": null,
   "metadata": {},
   "outputs": [],
   "source": []
  }
 ],
 "metadata": {
  "kernelspec": {
   "display_name": "Python [conda env:personalpy3]",
   "language": "python",
   "name": "conda-env-personalpy3-py"
  },
  "language_info": {
   "codemirror_mode": {
    "name": "ipython",
    "version": 3
   },
   "file_extension": ".py",
   "mimetype": "text/x-python",
   "name": "python",
   "nbconvert_exporter": "python",
   "pygments_lexer": "ipython3",
   "version": "3.7.7"
  }
 },
 "nbformat": 4,
 "nbformat_minor": 2
}
