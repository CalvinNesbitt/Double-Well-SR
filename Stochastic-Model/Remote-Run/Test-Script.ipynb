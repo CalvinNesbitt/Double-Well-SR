{
 "cells": [
  {
   "cell_type": "markdown",
   "metadata": {},
   "source": [
    "## Test Script for Remote Simulations"
   ]
  },
  {
   "cell_type": "code",
   "execution_count": 56,
   "metadata": {},
   "outputs": [],
   "source": [
    "# Standard Package imports\n",
    "import numpy as np\n",
    "import numpy.linalg as la\n",
    "import numpy.random as rm\n",
    "import xarray as xr\n",
    "import matplotlib.pyplot as plt\n",
    "from tqdm.notebook import tqdm\n",
    "import sys\n",
    "import os"
   ]
  },
  {
   "cell_type": "code",
   "execution_count": null,
   "metadata": {},
   "outputs": [],
   "source": [
    "'Instantons/Rotated-2D-Well/Stochastic-Model/Data/eps0_01/alpha_0_0/cold-ensemble'"
   ]
  },
  {
   "cell_type": "code",
   "execution_count": 122,
   "metadata": {},
   "outputs": [],
   "source": [
    "##########################################\n",
    "## Setting Parameters\n",
    "##########################################\n",
    "\n",
    "alphas = [0., 0.25, 0.5, 1.]\n",
    "alpha = alphas[int(sys.argv[1]) - 1] # For use with array jobs\n",
    "\n",
    "eps = 0.01\n",
    "\n",
    "dt = 0.1\n",
    "tf = 10\n",
    "time = np.arange(0, tf, dt)\n",
    "\n",
    "p = [alpha, eps]"
   ]
  },
  {
   "cell_type": "code",
   "execution_count": 124,
   "metadata": {},
   "outputs": [],
   "source": [
    "##########################################\n",
    "## Save Details\n",
    "##########################################\n",
    "\n",
    "# Results saved after each block\n",
    "# Ensemble size = blocks * block_len\n",
    "# Half of the ensemble start at the cold point, half at the hot point\n",
    "blocks = 10\n",
    "block_len = 10\n",
    "\n",
    "# Where We Save Output\n",
    "save_directory = f'/rds/general/user/cfn18/home/Instantons/Rotated-2D-Well/Stochastic-Model/Data/Test/alpha_{alpha}/'.replace('.', '_')\n",
    "\n",
    "if not os.path.exists(save_directory):\n",
    "    os.makedirs(save_directory + '/cold-ensemble')\n",
    "    os.makedirs(save_directory + '/hot-ensemble')"
   ]
  },
  {
   "cell_type": "code",
   "execution_count": 125,
   "metadata": {},
   "outputs": [],
   "source": [
    "##########################################\n",
    "## E.M. Scheme Definition\n",
    "##########################################\n",
    "\n",
    "R = np.array([[0, -1], [1, 0]]) # 90 degree rotation matrix\n",
    "\n",
    "def grad_V(x):\n",
    "    return np.array([x[0]*(x[0]**2 -1), 2 * x[1]])\n",
    "\n",
    "def drift(x, p):\n",
    "    alpha, eps = p\n",
    "    return - (np.eye(2) + alpha * R) @ grad_V(x)\n",
    "\n",
    "def euler_maruyama(x0, t, p, timer=False):\n",
    "    alpha, eps = p\n",
    "    N = len(t)\n",
    "    x = np.zeros(np.append(N, x0.shape))\n",
    "    x[0] = x0\n",
    "    for i in tqdm(range(N-1), disable=not timer):\n",
    "        dt = t[i+1]-t[i]\n",
    "        dWt = rm.normal(0, np.sqrt(dt), 2)\n",
    "        x[i+1] = x[i] + drift(x[i], p) * dt + np.sqrt(eps) * dWt\n",
    "    return x"
   ]
  },
  {
   "cell_type": "code",
   "execution_count": 126,
   "metadata": {},
   "outputs": [],
   "source": [
    "cold_point = np.array([-1, 0])\n",
    "hot_point = np.array([1, 0])\n",
    "saddle = np.array([0, 0])"
   ]
  },
  {
   "cell_type": "markdown",
   "metadata": {},
   "source": [
    "## Running Ensemble of Stochastic Integrations"
   ]
  },
  {
   "cell_type": "code",
   "execution_count": 127,
   "metadata": {},
   "outputs": [
    {
     "name": "stdout",
     "output_type": "stream",
     "text": [
      "Saved at /rds/general/user/cfn18/home/Instantons/Rotated-2D-Well/Stochastic-Model/Data/Test/alpha_1_0/cold-ensemble/1\n",
      "\n",
      "Saved at /rds/general/user/cfn18/home/Instantons/Rotated-2D-Well/Stochastic-Model/Data/Test/alpha_1_0/hot-ensemble/1\n",
      "\n",
      "Saved at /rds/general/user/cfn18/home/Instantons/Rotated-2D-Well/Stochastic-Model/Data/Test/alpha_1_0/cold-ensemble/2\n",
      "\n",
      "Saved at /rds/general/user/cfn18/home/Instantons/Rotated-2D-Well/Stochastic-Model/Data/Test/alpha_1_0/hot-ensemble/2\n",
      "\n",
      "Saved at /rds/general/user/cfn18/home/Instantons/Rotated-2D-Well/Stochastic-Model/Data/Test/alpha_1_0/cold-ensemble/3\n",
      "\n",
      "Saved at /rds/general/user/cfn18/home/Instantons/Rotated-2D-Well/Stochastic-Model/Data/Test/alpha_1_0/hot-ensemble/3\n",
      "\n",
      "Saved at /rds/general/user/cfn18/home/Instantons/Rotated-2D-Well/Stochastic-Model/Data/Test/alpha_1_0/cold-ensemble/4\n",
      "\n",
      "Saved at /rds/general/user/cfn18/home/Instantons/Rotated-2D-Well/Stochastic-Model/Data/Test/alpha_1_0/hot-ensemble/4\n",
      "\n",
      "Saved at /rds/general/user/cfn18/home/Instantons/Rotated-2D-Well/Stochastic-Model/Data/Test/alpha_1_0/cold-ensemble/5\n",
      "\n",
      "Saved at /rds/general/user/cfn18/home/Instantons/Rotated-2D-Well/Stochastic-Model/Data/Test/alpha_1_0/hot-ensemble/5\n",
      "\n",
      "Saved at /rds/general/user/cfn18/home/Instantons/Rotated-2D-Well/Stochastic-Model/Data/Test/alpha_1_0/cold-ensemble/6\n",
      "\n",
      "Saved at /rds/general/user/cfn18/home/Instantons/Rotated-2D-Well/Stochastic-Model/Data/Test/alpha_1_0/hot-ensemble/6\n",
      "\n",
      "Saved at /rds/general/user/cfn18/home/Instantons/Rotated-2D-Well/Stochastic-Model/Data/Test/alpha_1_0/cold-ensemble/7\n",
      "\n",
      "Saved at /rds/general/user/cfn18/home/Instantons/Rotated-2D-Well/Stochastic-Model/Data/Test/alpha_1_0/hot-ensemble/7\n",
      "\n",
      "Saved at /rds/general/user/cfn18/home/Instantons/Rotated-2D-Well/Stochastic-Model/Data/Test/alpha_1_0/cold-ensemble/8\n",
      "\n",
      "Saved at /rds/general/user/cfn18/home/Instantons/Rotated-2D-Well/Stochastic-Model/Data/Test/alpha_1_0/hot-ensemble/8\n",
      "\n",
      "Saved at /rds/general/user/cfn18/home/Instantons/Rotated-2D-Well/Stochastic-Model/Data/Test/alpha_1_0/cold-ensemble/9\n",
      "\n",
      "Saved at /rds/general/user/cfn18/home/Instantons/Rotated-2D-Well/Stochastic-Model/Data/Test/alpha_1_0/hot-ensemble/9\n",
      "\n",
      "Saved at /rds/general/user/cfn18/home/Instantons/Rotated-2D-Well/Stochastic-Model/Data/Test/alpha_1_0/cold-ensemble/10\n",
      "\n",
      "Saved at /rds/general/user/cfn18/home/Instantons/Rotated-2D-Well/Stochastic-Model/Data/Test/alpha_1_0/hot-ensemble/10\n",
      "\n"
     ]
    }
   ],
   "source": [
    "##########################################\n",
    "## Running and Saving in Blocks\n",
    "##########################################\n",
    "\n",
    "cold_ensemble = []\n",
    "hot_ensemble = []\n",
    "\n",
    "bl = int(block_len/2) # half of points start in each basin\n",
    "\n",
    "for i in range(blocks):\n",
    "    \n",
    "    for k in range(bl):\n",
    "        ensemble_member = bl * i + k + 1\n",
    "        cold_ensemble.append(euler_maruyama(cold_point, time, p))\n",
    "        hot_ensemble.append(euler_maruyama(hot_point, time, p))\n",
    "        \n",
    "    # Save and clear\n",
    "    \n",
    "    save_ensemble(cold_ensemble, save_directory + f'cold-ensemble/{i + 1}')\n",
    "    save_ensemble(cold_ensemble, save_directory + f'hot-ensemble/{i + 1}')\n",
    "    cold_ensemble = []\n",
    "    hot_ensemble = []"
   ]
  },
  {
   "cell_type": "code",
   "execution_count": null,
   "metadata": {},
   "outputs": [],
   "source": [
    "# Putting Results in xarray dataset and Saving\n",
    "\n",
    "def save_ensemble(ensemble, save_name):\n",
    "\n",
    "    # xr setup\n",
    "    dims = ['x', 'y']\n",
    "    coords = [time]\n",
    "    attrs = {'alpha': alpha, 'eps': eps}\n",
    "    \n",
    "    # Creating xr.Dataset\n",
    "    data = np.asarray(ensemble)\n",
    "    x_data = xr.DataArray(data[:, :, 0], coords = {'realisation':np.arange(len(ensemble)) + 1,\n",
    "                                        'time': time},\n",
    "                        dims = ['realisation','time'], attrs=attrs, name='x')\n",
    "    y_data = xr.DataArray(data[:, :, 1], coords = {'realisation':np.arange(len(ensemble)) + 1,\n",
    "                                        'time': time},\n",
    "                        dims = ['realisation','time'], attrs=attrs, name='y')\n",
    "    ensemble_ds = xr.merge([x_data, y_data])\n",
    "    ensemble_ds.attrs = attrs\n",
    "    \n",
    "    # Saving Dataset\n",
    "    ensemble_ds.to_netcdf(save_name + '.nc')\n",
    "    print(f'Saved at {save_name}\\n')"
   ]
  }
 ],
 "metadata": {
  "kernelspec": {
   "display_name": "Python3 (personal)",
   "language": "python",
   "name": "python3_personal"
  },
  "language_info": {
   "codemirror_mode": {
    "name": "ipython",
    "version": 3
   },
   "file_extension": ".py",
   "mimetype": "text/x-python",
   "name": "python",
   "nbconvert_exporter": "python",
   "pygments_lexer": "ipython3",
   "version": "3.7.7"
  }
 },
 "nbformat": 4,
 "nbformat_minor": 2
}
